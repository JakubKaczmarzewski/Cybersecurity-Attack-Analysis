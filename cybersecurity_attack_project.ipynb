{
 "cells": [
  {
   "cell_type": "markdown",
   "id": "0bd6b560-a78e-4151-b237-de65e2f5d3e4",
   "metadata": {},
   "source": [
    "# Cybersecurity Attack Dataset #\n",
    "### Analized by: Jakub Kaczmarzewski ###\n",
    "https://github.com/JakubKaczmarzewski \n"
   ]
  },
  {
   "cell_type": "markdown",
   "id": "016ab294-452c-468a-a4ca-5cc4894287c6",
   "metadata": {},
   "source": [
    "### Why this project should interest you?: ###\n",
    "Cyberattacks are an issue that affects large corporations, small businesses, and everyday users of the vast and ever-evolving world of technology. Understanding potential threats, the most common types of attacks, and the scale of damage they can cause can directly contribute to raising awareness in the field of cybersecurity.\n",
    "\n",
    "For companies, it’s an opportunity to better understand security gaps, prioritize protection areas, and design effective response strategies. For the average user, it’s knowledge about the threats they may face and how to protect themselves.\n",
    "\n",
    "This is a project that combines data analysis with a practical impact on the technological security of society."
   ]
  },
  {
   "cell_type": "markdown",
   "id": "7ac1eaaf-c007-43b9-90ee-2a4bfa852a23",
   "metadata": {},
   "source": [
    "The dataset used and its description can be found here: *https://www.kaggle.com/datasets/tannubarot/cybersecurity-attack-and-defence-dataset*"
   ]
  },
  {
   "cell_type": "markdown",
   "id": "de3963a4-672d-43d2-b31e-949e080645f6",
   "metadata": {},
   "source": [
    "### Importing the necessary libraries ###"
   ]
  },
  {
   "cell_type": "code",
   "execution_count": 5,
   "id": "63fd82be-9b41-4236-bedd-38316821d02d",
   "metadata": {},
   "outputs": [],
   "source": [
    "import pandas as pd\n",
    "import matplotlib.pyplot as plt\n",
    "import seaborn as sns"
   ]
  },
  {
   "cell_type": "code",
   "execution_count": 6,
   "id": "ea86af9f-755e-4f69-a3d5-c8e4e75a9f36",
   "metadata": {},
   "outputs": [],
   "source": [
    "# loading data from a CSV file\n",
    "df = pd.read_csv('Attack_Dataset.csv')"
   ]
  },
  {
   "cell_type": "code",
   "execution_count": 7,
   "id": "fa4ac1d8-87d6-4ed4-9e04-6dbb5db4115a",
   "metadata": {},
   "outputs": [
    {
     "data": {
      "text/html": [
       "<div>\n",
       "<style scoped>\n",
       "    .dataframe tbody tr th:only-of-type {\n",
       "        vertical-align: middle;\n",
       "    }\n",
       "\n",
       "    .dataframe tbody tr th {\n",
       "        vertical-align: top;\n",
       "    }\n",
       "\n",
       "    .dataframe thead th {\n",
       "        text-align: right;\n",
       "    }\n",
       "</style>\n",
       "<table border=\"1\" class=\"dataframe\">\n",
       "  <thead>\n",
       "    <tr style=\"text-align: right;\">\n",
       "      <th></th>\n",
       "      <th>ID</th>\n",
       "      <th>Title</th>\n",
       "      <th>Category</th>\n",
       "      <th>Attack Type</th>\n",
       "      <th>Scenario Description</th>\n",
       "      <th>Tools Used</th>\n",
       "      <th>Attack Steps</th>\n",
       "      <th>Target Type</th>\n",
       "      <th>Vulnerability</th>\n",
       "      <th>MITRE Technique</th>\n",
       "      <th>Impact</th>\n",
       "      <th>Detection Method</th>\n",
       "      <th>Solution</th>\n",
       "      <th>Tags</th>\n",
       "      <th>Source</th>\n",
       "      <th>Unnamed: 15</th>\n",
       "    </tr>\n",
       "  </thead>\n",
       "  <tbody>\n",
       "    <tr>\n",
       "      <th>0</th>\n",
       "      <td>1</td>\n",
       "      <td>Authentication Bypass via SQL Injection</td>\n",
       "      <td>Mobile Security</td>\n",
       "      <td>SQL Injection (SQLi)</td>\n",
       "      <td>A login form fails to validate or sanitize inp...</td>\n",
       "      <td>Browser, Burp Suite, SQLMap</td>\n",
       "      <td>1. Reconnaissance: Find a login form on the we...</td>\n",
       "      <td>Web Login Portals (e.g., banking, admin dashbo...</td>\n",
       "      <td>Unsanitized input fields in SQL queries</td>\n",
       "      <td>T1078 (Valid Accounts), T1190 (Exploit Public-...</td>\n",
       "      <td>Full account takeover, data theft, privilege e...</td>\n",
       "      <td>Web server logs, anomaly detection (e.g., logi...</td>\n",
       "      <td>Use prepared statements, Sanitize inputs, Limi...</td>\n",
       "      <td>SQLi, Authentication Bypass, Web Security, OWA...</td>\n",
       "      <td>OWASP, MITRE ATT&amp;CK, DVWA</td>\n",
       "      <td>NaN</td>\n",
       "    </tr>\n",
       "  </tbody>\n",
       "</table>\n",
       "</div>"
      ],
      "text/plain": [
       "   ID                                    Title          Category  \\\n",
       "0   1  Authentication Bypass via SQL Injection   Mobile Security   \n",
       "\n",
       "            Attack Type                               Scenario Description  \\\n",
       "0  SQL Injection (SQLi)  A login form fails to validate or sanitize inp...   \n",
       "\n",
       "                    Tools Used  \\\n",
       "0  Browser, Burp Suite, SQLMap   \n",
       "\n",
       "                                       Attack Steps   \\\n",
       "0  1. Reconnaissance: Find a login form on the we...   \n",
       "\n",
       "                                         Target Type  \\\n",
       "0  Web Login Portals (e.g., banking, admin dashbo...   \n",
       "\n",
       "                             Vulnerability  \\\n",
       "0  Unsanitized input fields in SQL queries   \n",
       "\n",
       "                                     MITRE Technique  \\\n",
       "0  T1078 (Valid Accounts), T1190 (Exploit Public-...   \n",
       "\n",
       "                                              Impact  \\\n",
       "0  Full account takeover, data theft, privilege e...   \n",
       "\n",
       "                                    Detection Method  \\\n",
       "0  Web server logs, anomaly detection (e.g., logi...   \n",
       "\n",
       "                                            Solution  \\\n",
       "0  Use prepared statements, Sanitize inputs, Limi...   \n",
       "\n",
       "                                                Tags  \\\n",
       "0  SQLi, Authentication Bypass, Web Security, OWA...   \n",
       "\n",
       "                      Source Unnamed: 15  \n",
       "0  OWASP, MITRE ATT&CK, DVWA         NaN  "
      ]
     },
     "execution_count": 7,
     "metadata": {},
     "output_type": "execute_result"
    }
   ],
   "source": [
    "df.head(1)"
   ]
  },
  {
   "cell_type": "markdown",
   "id": "b51ce5e9-8087-418d-9cca-d86251fd5b46",
   "metadata": {},
   "source": [
    "### Getting Basic Information About Data and Structure"
   ]
  },
  {
   "cell_type": "code",
   "execution_count": 9,
   "id": "9175633b-7d22-4b3c-b186-c6598d87a560",
   "metadata": {},
   "outputs": [
    {
     "name": "stdout",
     "output_type": "stream",
     "text": [
      "<class 'pandas.core.frame.DataFrame'>\n",
      "RangeIndex: 14133 entries, 0 to 14132\n",
      "Data columns (total 16 columns):\n",
      " #   Column                Non-Null Count  Dtype \n",
      "---  ------                --------------  ----- \n",
      " 0   ID                    14133 non-null  int64 \n",
      " 1   Title                 14133 non-null  object\n",
      " 2   Category              14133 non-null  object\n",
      " 3   Attack Type           14133 non-null  object\n",
      " 4   Scenario Description  14133 non-null  object\n",
      " 5   Tools Used            14119 non-null  object\n",
      " 6   Attack Steps          14133 non-null  object\n",
      " 7   Target Type           14129 non-null  object\n",
      " 8   Vulnerability         14115 non-null  object\n",
      " 9   MITRE Technique       14109 non-null  object\n",
      " 10  Impact                14130 non-null  object\n",
      " 11  Detection Method      14129 non-null  object\n",
      " 12  Solution              14130 non-null  object\n",
      " 13  Tags                  14130 non-null  object\n",
      " 14  Source                13973 non-null  object\n",
      " 15  Unnamed: 15           46 non-null     object\n",
      "dtypes: int64(1), object(15)\n",
      "memory usage: 1.7+ MB\n"
     ]
    }
   ],
   "source": [
    "df.info()"
   ]
  },
  {
   "cell_type": "code",
   "execution_count": 10,
   "id": "4deac00a-1a39-4645-a532-594c679d8aa4",
   "metadata": {},
   "outputs": [
    {
     "data": {
      "text/plain": [
       "<Axes: title={'center': 'Searching the dataset for null values'}>"
      ]
     },
     "execution_count": 10,
     "metadata": {},
     "output_type": "execute_result"
    },
    {
     "data": {
      "image/png": "[encoded data removed]",
      "text/plain": [
       "<Figure size 640x480 with 2 Axes>"
      ]
     },
     "metadata": {},
     "output_type": "display_data"
    }
   ],
   "source": [
    "plt.title('Searching the dataset for null values')\n",
    "sns.heatmap(data=df.isna(),cmap='crest_r')"
   ]
  },
  {
   "cell_type": "markdown",
   "id": "f12d95b3-6518-49c4-928e-6a8fe15fef18",
   "metadata": {},
   "source": [
    "### Columns without null-values "
   ]
  },
  {
   "cell_type": "code",
   "execution_count": 12,
   "id": "c08955e8-9073-4a06-8320-f87b96401e14",
   "metadata": {},
   "outputs": [
    {
     "data": {
      "text/plain": [
       "ID                      0\n",
       "Title                   0\n",
       "Category                0\n",
       "Attack Type             0\n",
       "Scenario Description    0\n",
       "Attack Steps            0\n",
       "dtype: int64"
      ]
     },
     "execution_count": 12,
     "metadata": {},
     "output_type": "execute_result"
    }
   ],
   "source": [
    "df.isna().sum()[df.isna().sum() == 0]"
   ]
  },
  {
   "cell_type": "markdown",
   "id": "988b1f4c-61cf-4726-840b-f822c24ee1dc",
   "metadata": {},
   "source": [
    "### Columns with null values, perhaps we'll do something with them later in the data cleaning section. "
   ]
  },
  {
   "cell_type": "code",
   "execution_count": 14,
   "id": "43f0b8cb-1b63-414f-a2e3-32c3842dae93",
   "metadata": {},
   "outputs": [
    {
     "data": {
      "text/plain": [
       "Unnamed: 15         14087\n",
       "Source                160\n",
       "MITRE Technique        24\n",
       "Vulnerability          18\n",
       "Tools Used             14\n",
       "Target Type             4\n",
       "Detection Method        4\n",
       "Impact                  3\n",
       "Solution                3\n",
       "Tags                    3\n",
       "dtype: int64"
      ]
     },
     "execution_count": 14,
     "metadata": {},
     "output_type": "execute_result"
    }
   ],
   "source": [
    "columns_with_na = df.isna().sum()[df.isna().sum() > 0].sort_values(ascending=False)\n",
    "columns_with_na"
   ]
  },
  {
   "cell_type": "code",
   "execution_count": 15,
   "id": "b8d1303f-2d21-4a25-a825-40a132c74e08",
   "metadata": {},
   "outputs": [
    {
     "name": "stderr",
     "output_type": "stream",
     "text": [
      "/var/folders/th/kwb7gr5960bcybggr8f7glh80000gn/T/ipykernel_14719/1827303792.py:8: FutureWarning: \n",
      "\n",
      "Passing `palette` without assigning `hue` is deprecated and will be removed in v0.14.0. Assign the `x` variable to `hue` and set `legend=False` for the same effect.\n",
      "\n",
      "  sns.barplot(x=columns_to_plot.index, y=columns_to_plot.values, palette='crest')\n"
     ]
    },
    {
     "data": {
      "image/png": "[encoded data removed]",
      "text/plain": [
       "<Figure size 900x600 with 1 Axes>"
      ]
     },
     "metadata": {},
     "output_type": "display_data"
    }
   ],
   "source": [
    "# Unnamed: 15' is excluded because it contains an unusually high number of null values\n",
    "column_to_exclude = 'Unnamed: 15'\n",
    "columns_to_plot = columns_with_na.drop(column_to_exclude).sort_values(ascending=False)\n",
    "\n",
    "# Creating plot\n",
    "plt.figure(figsize=(9, 6))\n",
    "plt.title('Columns Containing Null Values', fontsize=14)\n",
    "sns.barplot(x=columns_to_plot.index, y=columns_to_plot.values, palette='crest')\n",
    "\n",
    "plt.xticks(rotation=90, fontsize=10)\n",
    "\n",
    "# Adding X & Y labels\n",
    "plt.xlabel('Column name')\n",
    "plt.ylabel('Number of Null Values')\n",
    "\n",
    "plt.tight_layout()"
   ]
  },
  {
   "cell_type": "markdown",
   "id": "3c920f4f-9ceb-46a8-91f2-4cffea03689b",
   "metadata": {},
   "source": [
    "In my opinion,the dataset is well-prepared for analysis and does not require any special preprocessing at this stage. The missing data is minimal."
   ]
  },
  {
   "cell_type": "markdown",
   "id": "264cc216-3499-4aa3-a1df-0e3da30c2de1",
   "metadata": {},
   "source": [
    "## Now it's time to take a look and analyze a few selected cases from the dataset ###"
   ]
  },
  {
   "cell_type": "markdown",
   "id": "a90a8e9f-a8fd-43bd-a3bc-3330143bef23",
   "metadata": {},
   "source": [
    "Instead of relying solely on the head() function, I prefer combining it with sample(), as it allows for a broader overview of the dataset and helps to better understand both its structure and the variety of cases it contains. "
   ]
  },
  {
   "cell_type": "code",
   "execution_count": 19,
   "id": "6b993d35-8e95-4db5-a054-3a7cbe363ab7",
   "metadata": {},
   "outputs": [
    {
     "data": {
      "text/html": [
       "<div>\n",
       "<style scoped>\n",
       "    .dataframe tbody tr th:only-of-type {\n",
       "        vertical-align: middle;\n",
       "    }\n",
       "\n",
       "    .dataframe tbody tr th {\n",
       "        vertical-align: top;\n",
       "    }\n",
       "\n",
       "    .dataframe thead th {\n",
       "        text-align: right;\n",
       "    }\n",
       "</style>\n",
       "<table border=\"1\" class=\"dataframe\">\n",
       "  <thead>\n",
       "    <tr style=\"text-align: right;\">\n",
       "      <th></th>\n",
       "      <th>ID</th>\n",
       "      <th>Title</th>\n",
       "      <th>Category</th>\n",
       "      <th>Attack Type</th>\n",
       "      <th>Scenario Description</th>\n",
       "      <th>Tools Used</th>\n",
       "      <th>Attack Steps</th>\n",
       "      <th>Target Type</th>\n",
       "      <th>Vulnerability</th>\n",
       "      <th>MITRE Technique</th>\n",
       "      <th>Impact</th>\n",
       "      <th>Detection Method</th>\n",
       "      <th>Solution</th>\n",
       "      <th>Tags</th>\n",
       "      <th>Source</th>\n",
       "      <th>Unnamed: 15</th>\n",
       "    </tr>\n",
       "  </thead>\n",
       "  <tbody>\n",
       "    <tr>\n",
       "      <th>0</th>\n",
       "      <td>1</td>\n",
       "      <td>Authentication Bypass via SQL Injection</td>\n",
       "      <td>Mobile Security</td>\n",
       "      <td>SQL Injection (SQLi)</td>\n",
       "      <td>A login form fails to validate or sanitize inp...</td>\n",
       "      <td>Browser, Burp Suite, SQLMap</td>\n",
       "      <td>1. Reconnaissance: Find a login form on the we...</td>\n",
       "      <td>Web Login Portals (e.g., banking, admin dashbo...</td>\n",
       "      <td>Unsanitized input fields in SQL queries</td>\n",
       "      <td>T1078 (Valid Accounts), T1190 (Exploit Public-...</td>\n",
       "      <td>Full account takeover, data theft, privilege e...</td>\n",
       "      <td>Web server logs, anomaly detection (e.g., logi...</td>\n",
       "      <td>Use prepared statements, Sanitize inputs, Limi...</td>\n",
       "      <td>SQLi, Authentication Bypass, Web Security, OWA...</td>\n",
       "      <td>OWASP, MITRE ATT&amp;CK, DVWA</td>\n",
       "      <td>NaN</td>\n",
       "    </tr>\n",
       "    <tr>\n",
       "      <th>1</th>\n",
       "      <td>2</td>\n",
       "      <td>Union-Based SQL Injection</td>\n",
       "      <td>AI Agents &amp; LLM Exploits</td>\n",
       "      <td>SQL Injection</td>\n",
       "      <td>This attack occurs when a hacker uses the SQL ...</td>\n",
       "      <td>SQLMap, Burp Suite, Havij, Browser Developer T...</td>\n",
       "      <td>1. Identify User Input Points: Attacker finds ...</td>\n",
       "      <td>Web Applications, Login Pages, Search Forms</td>\n",
       "      <td>Improperly filtered input fields that allow SQ...</td>\n",
       "      <td>T1190 – Exploit Public-Facing Application</td>\n",
       "      <td>Data leakage, Credential theft, Account takeov...</td>\n",
       "      <td>Web Application Firewalls (WAF)Log AnalysisInp...</td>\n",
       "      <td>Use parameterized queries (Prepared Statements...</td>\n",
       "      <td>#SQLInjection #WebSecurity #UnionAttack #OWASP...</td>\n",
       "      <td>OWASP, MITRE ATT&amp;CK, Acunetix, PortSwigger Web...</td>\n",
       "      <td>NaN</td>\n",
       "    </tr>\n",
       "  </tbody>\n",
       "</table>\n",
       "</div>"
      ],
      "text/plain": [
       "   ID                                    Title                  Category  \\\n",
       "0   1  Authentication Bypass via SQL Injection           Mobile Security   \n",
       "1   2                Union-Based SQL Injection  AI Agents & LLM Exploits   \n",
       "\n",
       "            Attack Type                               Scenario Description  \\\n",
       "0  SQL Injection (SQLi)  A login form fails to validate or sanitize inp...   \n",
       "1         SQL Injection  This attack occurs when a hacker uses the SQL ...   \n",
       "\n",
       "                                          Tools Used  \\\n",
       "0                        Browser, Burp Suite, SQLMap   \n",
       "1  SQLMap, Burp Suite, Havij, Browser Developer T...   \n",
       "\n",
       "                                       Attack Steps   \\\n",
       "0  1. Reconnaissance: Find a login form on the we...   \n",
       "1  1. Identify User Input Points: Attacker finds ...   \n",
       "\n",
       "                                         Target Type  \\\n",
       "0  Web Login Portals (e.g., banking, admin dashbo...   \n",
       "1        Web Applications, Login Pages, Search Forms   \n",
       "\n",
       "                                       Vulnerability  \\\n",
       "0            Unsanitized input fields in SQL queries   \n",
       "1  Improperly filtered input fields that allow SQ...   \n",
       "\n",
       "                                     MITRE Technique  \\\n",
       "0  T1078 (Valid Accounts), T1190 (Exploit Public-...   \n",
       "1          T1190 – Exploit Public-Facing Application   \n",
       "\n",
       "                                              Impact  \\\n",
       "0  Full account takeover, data theft, privilege e...   \n",
       "1  Data leakage, Credential theft, Account takeov...   \n",
       "\n",
       "                                    Detection Method  \\\n",
       "0  Web server logs, anomaly detection (e.g., logi...   \n",
       "1  Web Application Firewalls (WAF)Log AnalysisInp...   \n",
       "\n",
       "                                            Solution  \\\n",
       "0  Use prepared statements, Sanitize inputs, Limi...   \n",
       "1  Use parameterized queries (Prepared Statements...   \n",
       "\n",
       "                                                Tags  \\\n",
       "0  SQLi, Authentication Bypass, Web Security, OWA...   \n",
       "1  #SQLInjection #WebSecurity #UnionAttack #OWASP...   \n",
       "\n",
       "                                              Source Unnamed: 15  \n",
       "0                          OWASP, MITRE ATT&CK, DVWA         NaN  \n",
       "1  OWASP, MITRE ATT&CK, Acunetix, PortSwigger Web...         NaN  "
      ]
     },
     "execution_count": 19,
     "metadata": {},
     "output_type": "execute_result"
    }
   ],
   "source": [
    "df.head(2)"
   ]
  },
  {
   "cell_type": "code",
   "execution_count": 20,
   "id": "6f4e4a41-7d60-444a-8936-5bf0f8ccdb97",
   "metadata": {},
   "outputs": [
    {
     "data": {
      "text/html": [
       "<div>\n",
       "<style scoped>\n",
       "    .dataframe tbody tr th:only-of-type {\n",
       "        vertical-align: middle;\n",
       "    }\n",
       "\n",
       "    .dataframe tbody tr th {\n",
       "        vertical-align: top;\n",
       "    }\n",
       "\n",
       "    .dataframe thead th {\n",
       "        text-align: right;\n",
       "    }\n",
       "</style>\n",
       "<table border=\"1\" class=\"dataframe\">\n",
       "  <thead>\n",
       "    <tr style=\"text-align: right;\">\n",
       "      <th></th>\n",
       "      <th>ID</th>\n",
       "      <th>Title</th>\n",
       "      <th>Category</th>\n",
       "      <th>Attack Type</th>\n",
       "      <th>Scenario Description</th>\n",
       "      <th>Tools Used</th>\n",
       "      <th>Attack Steps</th>\n",
       "      <th>Target Type</th>\n",
       "      <th>Vulnerability</th>\n",
       "      <th>MITRE Technique</th>\n",
       "      <th>Impact</th>\n",
       "      <th>Detection Method</th>\n",
       "      <th>Solution</th>\n",
       "      <th>Tags</th>\n",
       "      <th>Source</th>\n",
       "      <th>Unnamed: 15</th>\n",
       "    </tr>\n",
       "  </thead>\n",
       "  <tbody>\n",
       "    <tr>\n",
       "      <th>10102</th>\n",
       "      <td>10103</td>\n",
       "      <td>Active Directory Enumeration using BloodHound</td>\n",
       "      <td>Blue Team</td>\n",
       "      <td>Discovery</td>\n",
       "      <td>Simulate internal AD recon with detection vali...</td>\n",
       "      <td>BloodHound, SharpHound, Neo4j</td>\n",
       "      <td>1. Red Team runs SharpHound on a compromised e...</td>\n",
       "      <td>Domain Controller</td>\n",
       "      <td>Excessive LDAP enumeration</td>\n",
       "      <td>T1087, T1069</td>\n",
       "      <td>Recon for privilege escalation planning</td>\n",
       "      <td>LDAP logs, Event ID 4662, network share monitors</td>\n",
       "      <td>Throttle queries, detect SharpHound signatures</td>\n",
       "      <td>#bloodhound #discovery #ldap</td>\n",
       "      <td>SpecterOps, MITRE</td>\n",
       "      <td>NaN</td>\n",
       "    </tr>\n",
       "    <tr>\n",
       "      <th>4228</th>\n",
       "      <td>4229</td>\n",
       "      <td>Improper Modifier Logic</td>\n",
       "      <td>Blockchain / Web3</td>\n",
       "      <td>Access Control / Modifier Bugs</td>\n",
       "      <td>Modifiers implementing access control or state...</td>\n",
       "      <td>Remix, Mythril, Slither</td>\n",
       "      <td>Step 1: Attacker reviews smart contract modifi...</td>\n",
       "      <td>All smart contracts</td>\n",
       "      <td>Faulty modifier syntax or logic</td>\n",
       "      <td>T1602 – Access Token Manipulation</td>\n",
       "      <td>Unauthorized access, function locking</td>\n",
       "      <td>Code reviews focusing on modifiers; tests of b...</td>\n",
       "      <td>Ensure modifiers contain _;, use explicit logi...</td>\n",
       "      <td>Modifiers, Access Control Bugs</td>\n",
       "      <td>ConsenSys, MythX</td>\n",
       "      <td>NaN</td>\n",
       "    </tr>\n",
       "    <tr>\n",
       "      <th>3771</th>\n",
       "      <td>3772</td>\n",
       "      <td>Influence Function-Based Attack</td>\n",
       "      <td>AI Data Leakage &amp; Privacy Risks</td>\n",
       "      <td>Training Data Attribution using Influence Func...</td>\n",
       "      <td>Influence functions allow attackers to trace w...</td>\n",
       "      <td>TracIn, PyTorch Influence Functions, Captum</td>\n",
       "      <td>Step 1: Attacker queries the model with a know...</td>\n",
       "      <td>Fine-tuned models (e.g., NLP, Vision)</td>\n",
       "      <td>Influence-based training traceability</td>\n",
       "      <td>T1606.009 – Influence-Based Membership</td>\n",
       "      <td>Exact recovery of influential training data sa...</td>\n",
       "      <td>Watch for frequent high-rank influence queries...</td>\n",
       "      <td>Clip gradient influence; add DP noise to loss ...</td>\n",
       "      <td>Influence MIA, TracIn, Attribution Privacy</td>\n",
       "      <td>TracIn Paper, OpenML Papers</td>\n",
       "      <td>NaN</td>\n",
       "    </tr>\n",
       "  </tbody>\n",
       "</table>\n",
       "</div>"
      ],
      "text/plain": [
       "          ID                                          Title  \\\n",
       "10102  10103  Active Directory Enumeration using BloodHound   \n",
       "4228    4229                        Improper Modifier Logic   \n",
       "3771    3772                Influence Function-Based Attack   \n",
       "\n",
       "                              Category  \\\n",
       "10102                        Blue Team   \n",
       "4228                 Blockchain / Web3   \n",
       "3771   AI Data Leakage & Privacy Risks   \n",
       "\n",
       "                                             Attack Type  \\\n",
       "10102                                          Discovery   \n",
       "4228                      Access Control / Modifier Bugs   \n",
       "3771   Training Data Attribution using Influence Func...   \n",
       "\n",
       "                                    Scenario Description  \\\n",
       "10102  Simulate internal AD recon with detection vali...   \n",
       "4228   Modifiers implementing access control or state...   \n",
       "3771   Influence functions allow attackers to trace w...   \n",
       "\n",
       "                                        Tools Used  \\\n",
       "10102                BloodHound, SharpHound, Neo4j   \n",
       "4228                       Remix, Mythril, Slither   \n",
       "3771   TracIn, PyTorch Influence Functions, Captum   \n",
       "\n",
       "                                           Attack Steps   \\\n",
       "10102  1. Red Team runs SharpHound on a compromised e...   \n",
       "4228   Step 1: Attacker reviews smart contract modifi...   \n",
       "3771   Step 1: Attacker queries the model with a know...   \n",
       "\n",
       "                                 Target Type  \\\n",
       "10102                      Domain Controller   \n",
       "4228                     All smart contracts   \n",
       "3771   Fine-tuned models (e.g., NLP, Vision)   \n",
       "\n",
       "                               Vulnerability  \\\n",
       "10102             Excessive LDAP enumeration   \n",
       "4228         Faulty modifier syntax or logic   \n",
       "3771   Influence-based training traceability   \n",
       "\n",
       "                              MITRE Technique  \\\n",
       "10102                            T1087, T1069   \n",
       "4228        T1602 – Access Token Manipulation   \n",
       "3771   T1606.009 – Influence-Based Membership   \n",
       "\n",
       "                                                  Impact  \\\n",
       "10102            Recon for privilege escalation planning   \n",
       "4228               Unauthorized access, function locking   \n",
       "3771   Exact recovery of influential training data sa...   \n",
       "\n",
       "                                        Detection Method  \\\n",
       "10102   LDAP logs, Event ID 4662, network share monitors   \n",
       "4228   Code reviews focusing on modifiers; tests of b...   \n",
       "3771   Watch for frequent high-rank influence queries...   \n",
       "\n",
       "                                                Solution  \\\n",
       "10102     Throttle queries, detect SharpHound signatures   \n",
       "4228   Ensure modifiers contain _;, use explicit logi...   \n",
       "3771   Clip gradient influence; add DP noise to loss ...   \n",
       "\n",
       "                                             Tags  \\\n",
       "10102                #bloodhound #discovery #ldap   \n",
       "4228               Modifiers, Access Control Bugs   \n",
       "3771   Influence MIA, TracIn, Attribution Privacy   \n",
       "\n",
       "                            Source Unnamed: 15  \n",
       "10102            SpecterOps, MITRE         NaN  \n",
       "4228              ConsenSys, MythX         NaN  \n",
       "3771   TracIn Paper, OpenML Papers         NaN  "
      ]
     },
     "execution_count": 20,
     "metadata": {},
     "output_type": "execute_result"
    }
   ],
   "source": [
    "df.sample(n=3, random_state=101)"
   ]
  },
  {
   "cell_type": "code",
   "execution_count": null,
   "id": "731529ae-54b3-4790-be2a-32579626bf83",
   "metadata": {},
   "outputs": [],
   "source": []
  },
  {
   "cell_type": "markdown",
   "id": "3f16d5aa-5fa0-427c-b737-87730c026a77",
   "metadata": {},
   "source": [
    "## EDA – Exploratory Data Analysis"
   ]
  },
  {
   "cell_type": "markdown",
   "id": "07fcc300-5e46-4677-8ab8-cb454636c84b",
   "metadata": {},
   "source": [
    "### Lets explore each column"
   ]
  },
  {
   "cell_type": "code",
   "execution_count": 23,
   "id": "ffcf75e2-8e36-4635-9b40-63445323f5e2",
   "metadata": {},
   "outputs": [
    {
     "data": {
      "text/plain": [
       "Index(['ID', 'Title', 'Category', 'Attack Type', 'Scenario Description',\n",
       "       'Tools Used', 'Attack Steps ', 'Target Type', 'Vulnerability',\n",
       "       'MITRE Technique', 'Impact', 'Detection Method', 'Solution', 'Tags',\n",
       "       'Source', 'Unnamed: 15'],\n",
       "      dtype='object')"
      ]
     },
     "execution_count": 23,
     "metadata": {},
     "output_type": "execute_result"
    }
   ],
   "source": [
    "df.columns"
   ]
  },
  {
   "cell_type": "markdown",
   "id": "8c796731-6968-4e6a-b081-d6d3bd797d15",
   "metadata": {},
   "source": [
    "### Title ###"
   ]
  },
  {
   "cell_type": "code",
   "execution_count": 25,
   "id": "21a13011-b483-418f-bacf-6bcda724418e",
   "metadata": {},
   "outputs": [
    {
     "data": {
      "text/plain": [
       "13793"
      ]
     },
     "execution_count": 25,
     "metadata": {},
     "output_type": "execute_result"
    }
   ],
   "source": [
    "len(df['Title'].unique())"
   ]
  },
  {
   "cell_type": "markdown",
   "id": "d2464108-ff88-4b7d-ab8b-8f5bfedf4395",
   "metadata": {},
   "source": [
    "We can see that virtually the entire dataset has unique titles for each row. This may be interesting for case-by-case analysis, but it means it won't be useful information for machine learning."
   ]
  },
  {
   "cell_type": "code",
   "execution_count": 27,
   "id": "8bd29ec2-9dce-44e9-aa14-f6905106d690",
   "metadata": {},
   "outputs": [
    {
     "data": {
      "text/plain": [
       "0"
      ]
     },
     "execution_count": 27,
     "metadata": {},
     "output_type": "execute_result"
    }
   ],
   "source": [
    "len(df['Title'].value_counts()[df['Title'].value_counts() > 3])"
   ]
  },
  {
   "cell_type": "markdown",
   "id": "48cbb206-3d2b-455e-80ad-828cf6d54d69",
   "metadata": {},
   "source": [
    "### Category ### "
   ]
  },
  {
   "cell_type": "code",
   "execution_count": 29,
   "id": "5769560e-ee95-4445-a360-b4fea1aa5ad8",
   "metadata": {},
   "outputs": [
    {
     "data": {
      "text/plain": [
       "64"
      ]
     },
     "execution_count": 29,
     "metadata": {},
     "output_type": "execute_result"
    }
   ],
   "source": [
    "len(df['Category'].value_counts())"
   ]
  },
  {
   "cell_type": "code",
   "execution_count": 30,
   "id": "f66b7ba4-69fb-4f8c-8467-36343c0f4ffe",
   "metadata": {},
   "outputs": [
    {
     "data": {
      "text/plain": [
       "Category\n",
       "Insider Threat                                                   569\n",
       "Physical / Hardware Attacks                                      548\n",
       "Quantum Cryptography & Post-Quantum Threats                      542\n",
       "Wireless Attacks (Advanced)                                      535\n",
       "Malware & Threat                                                 528\n",
       "                                                                ... \n",
       "Automotive / Cyber-Physical Systems → ECU Reverse Engineering      7\n",
       "Automotive / CPS → Firmware Over-The-Air (FOTA) Abuse              5\n",
       "Automotive / CPS → Physical Layer Attack                           3\n",
       "Network security                                                   2\n",
       " Mobile Security                                                   1\n",
       "Name: count, Length: 64, dtype: int64"
      ]
     },
     "execution_count": 30,
     "metadata": {},
     "output_type": "execute_result"
    }
   ],
   "source": [
    "# Here we will check the distribution of cyberattacks by category and take a look at the most popular.\n",
    "df['Category'].value_counts()"
   ]
  },
  {
   "cell_type": "markdown",
   "id": "176c1821-28b8-49df-ba8c-0244eb57c093",
   "metadata": {},
   "source": [
    "As we can tell 'Insider Threat', 'Physical / Hardware Attacks', 'Quantum Cryptography & Post-Quantum Threats' are top 3 most popular attacks in this data set."
   ]
  },
  {
   "cell_type": "code",
   "execution_count": 32,
   "id": "4b902e0a-475f-487d-87f6-6d62cbb67bfc",
   "metadata": {},
   "outputs": [
    {
     "name": "stderr",
     "output_type": "stream",
     "text": [
      "/var/folders/th/kwb7gr5960bcybggr8f7glh80000gn/T/ipykernel_14719/4054030136.py:4: FutureWarning: \n",
      "\n",
      "Passing `palette` without assigning `hue` is deprecated and will be removed in v0.14.0. Assign the `x` variable to `hue` and set `legend=False` for the same effect.\n",
      "\n",
      "  sns.barplot(data=df['Category'].value_counts(),palette='crest')\n"
     ]
    },
    {
     "data": {
      "text/plain": [
       "Text(0, 0.5, 'number of records')"
      ]
     },
     "execution_count": 32,
     "metadata": {},
     "output_type": "execute_result"
    },
    {
     "data": {
      "image/png": "[encoded data removed]",
      "text/plain": [
       "<Figure size 1200x400 with 1 Axes>"
      ]
     },
     "metadata": {},
     "output_type": "display_data"
    }
   ],
   "source": [
    "plt.figure(figsize=(12,4))\n",
    "\n",
    "# Creating plot\n",
    "sns.barplot(data=df['Category'].value_counts(),palette='crest')\n",
    "\n",
    "plt.title('Preview of data arrangement in the \"Category\" column')\n",
    "\n",
    "plt.xticks(ticks=[], labels=[])\n",
    "#plt.xticks(rotation=90, fontsize=10)\n",
    "plt.ylabel('number of records')"
   ]
  },
  {
   "cell_type": "code",
   "execution_count": 33,
   "id": "3ffa26af-afe7-44da-8307-f8a21e90c787",
   "metadata": {},
   "outputs": [],
   "source": [
    "popular_attack_categories = df['Category'].value_counts().head(25)"
   ]
  },
  {
   "cell_type": "code",
   "execution_count": 34,
   "id": "845e01d4-48f3-4bb5-8813-cf50eda88d51",
   "metadata": {},
   "outputs": [
    {
     "data": {
      "text/plain": [
       "Category\n",
       "Insider Threat                                                                                                 569\n",
       "Physical / Hardware Attacks                                                                                    548\n",
       "Quantum Cryptography & Post-Quantum Threats                                                                    542\n",
       "Wireless Attacks (Advanced)                                                                                    535\n",
       "Malware & Threat                                                                                               528\n",
       "Satellite & Space Infrastructure Security                                                                      515\n",
       "DFIR                                                                                                           510\n",
       "Blockchain / Web3                                                                                              503\n",
       "Blue Team                                                                                                      503\n",
       "Red Team                                                                                                       503\n",
       "AI Data Leakage & Privacy Risks                                                                                502\n",
       "Cryptography Attacks                                                                                           501\n",
       "Cloud Security                                                                                                 501\n",
       "Web Application Security                                                                                       501\n",
       "Operating System Exploits                                                                                      501\n",
       "Email & Messaging Protocol Exploits                                                                            500\n",
       "Mobile Security                                                                                                499\n",
       "Network Security                                                                                               499\n",
       "AI/ML Security                                                                                                 496\n",
       "AI Agents & LLM Exploits                                                                                       494\n",
       "DevSecOps & CI/CD Security                                                                                     479\n",
       "Virtualization & Container Security → Defensive Evasion & Persistence → 🛡️ Evading Container Security Tools    479\n",
       "Supply Chain Attacks                                                                                           469\n",
       "IoT / Embedded Devices                                                                                         455\n",
       "SCADA/ICS                                                                                                      452\n",
       "Name: count, dtype: int64"
      ]
     },
     "execution_count": 34,
     "metadata": {},
     "output_type": "execute_result"
    }
   ],
   "source": [
    "popular_attack_categories"
   ]
  },
  {
   "cell_type": "code",
   "execution_count": 35,
   "id": "1d97ba00-4954-4c3e-a52b-bdad84159777",
   "metadata": {},
   "outputs": [
    {
     "name": "stdout",
     "output_type": "stream",
     "text": [
      "89.0%\n"
     ]
    }
   ],
   "source": [
    "# calculating what percentage of the total data set is made up of the 25 most frequently occurring categories\n",
    "percentage_of_df = popular_attack_categories.sum() / df['Category'].value_counts().sum()\n",
    "print(f'{(round(percentage_of_df,2) * 100)}%')"
   ]
  },
  {
   "cell_type": "markdown",
   "id": "94417e5b-4176-4c23-8042-0d9ae815e6f1",
   "metadata": {},
   "source": [
    "In this dataset, we have 64 different attack categories, 25 of which constitute 89% of our dataset. We will focus on these initially."
   ]
  },
  {
   "cell_type": "code",
   "execution_count": 37,
   "id": "5516f8de-920e-4526-adcd-ec560c443048",
   "metadata": {},
   "outputs": [
    {
     "data": {
      "text/plain": [
       "array(['Automotive / Cyber-Physical Systems',\n",
       "       'Automotive / Cyber-Physical Systems → CAN Bus Injection',\n",
       "       'Automotive / Cyber-Physical Systems → Infotainment System Hacking',\n",
       "       'Automotive / CPS',\n",
       "       'Automotive / Cyber-Physical Systems → ECU Reverse Engineering',\n",
       "       'Automotive / Cyber-Physical Systems → Sensor Spoofing & Physical Layer Attacks',\n",
       "       'Automotive / CPS → Sensor Spoofing & Physical Layer Attacks',\n",
       "       'Automotive / CPS → Sensor Spoofing',\n",
       "       'Automotive / CPS → Physical Layer Attack',\n",
       "       'Automotive / Cyber-Physical Systems → Wireless Communication Attacks',\n",
       "       'Automotive / Cyber-Physical Systems → Remote Keyless Entry Exploits',\n",
       "       'Automotive / Cyber-Physical Systems → Firmware Over-The-Air (FOTA) Abuse',\n",
       "       'Automotive / CPS → Firmware Over-The-Air (FOTA) Abuse',\n",
       "       'Automotive / Cyber-Physical Systems → Vehicle Control Manipulation',\n",
       "       'Automotive / Cyber-Physical Systems → Vehicle Control Manipulation (Safety-Critical)',\n",
       "       'Automotive / Cyber-Physical Systems → Defensive & Real-Time Monitoring Tactics'],\n",
       "      dtype=object)"
      ]
     },
     "execution_count": 37,
     "metadata": {},
     "output_type": "execute_result"
    }
   ],
   "source": [
    "df['Category'][df['Category'].str.contains('Automotive', case=False, na=False)].unique()\n"
   ]
  },
  {
   "cell_type": "markdown",
   "id": "d52066b5-07c7-46cb-b4ed-46360481ed2c",
   "metadata": {},
   "source": [
    "### Source ###"
   ]
  },
  {
   "cell_type": "code",
   "execution_count": 39,
   "id": "506d186c-55fc-49ad-8e88-f55ff3a1edfc",
   "metadata": {},
   "outputs": [
    {
     "data": {
      "text/plain": [
       "Source\n",
       "Simulated                    2347\n",
       "OWASP, MITRE                  299\n",
       "https://attack.mitre.org      257\n",
       "Educational                   251\n",
       "Educational Simulation        219\n",
       "                             ... \n",
       "AI Privacy Best Practices       1\n",
       "AI Safety Literature            1\n",
       "Research Reports                1\n",
       "AI Safety Documentation         1\n",
       "Open Satellite Consortium       1\n",
       "Name: count, Length: 7051, dtype: int64"
      ]
     },
     "execution_count": 39,
     "metadata": {},
     "output_type": "execute_result"
    }
   ],
   "source": [
    "df['Source'].value_counts()"
   ]
  },
  {
   "cell_type": "code",
   "execution_count": 40,
   "id": "6f52dc48-906d-4b18-ae31-6d0a26028164",
   "metadata": {},
   "outputs": [
    {
     "data": {
      "text/plain": [
       "7052"
      ]
     },
     "execution_count": 40,
     "metadata": {},
     "output_type": "execute_result"
    }
   ],
   "source": [
    "# Check how many unique data sources we have.\n",
    "len(df['Source'].unique())"
   ]
  },
  {
   "cell_type": "markdown",
   "id": "98946c99-f80d-4b6c-a3f7-06007cdef869",
   "metadata": {},
   "source": [
    "Personally, I think in this particular case, the more data sources, the better."
   ]
  },
  {
   "cell_type": "code",
   "execution_count": 42,
   "id": "56b4836a-680d-4061-9683-ab878236157d",
   "metadata": {},
   "outputs": [
    {
     "name": "stdout",
     "output_type": "stream",
     "text": [
      "17.0% of simulated data.\n"
     ]
    }
   ],
   "source": [
    "perc_of_simulated_data = df['Source'][df['Source'] == 'Simulated'].count() / df['ID'].count()\n",
    "print(f'{round(perc_of_simulated_data, 2) * 100}% of simulated data.')"
   ]
  },
  {
   "cell_type": "markdown",
   "id": "b657179b-ee8a-446d-aa69-258d3ddced4c",
   "metadata": {},
   "source": [
    "Here we see that the most popular category in the \"Source\" column is \"Simulated,\" accounting for almost 17% of our dataset. This is good for machine learning, but in the presentation and analysis, I'll focus on the actual source data."
   ]
  },
  {
   "cell_type": "markdown",
   "id": "c9a1119b-daa6-4be5-b5f9-88634b14bda8",
   "metadata": {},
   "source": [
    "In my opinion its good to know what percent of data we are going to analize is simulated and i prefere to avoid data sets with more than 50% of simulated data. "
   ]
  },
  {
   "cell_type": "markdown",
   "id": "f6959f78-f49a-4ceb-81f7-437dc8b239f9",
   "metadata": {},
   "source": [
    "### Attack Type ###"
   ]
  },
  {
   "cell_type": "code",
   "execution_count": 46,
   "id": "350a6e91-6039-4990-ad8f-eaeb73ed9c83",
   "metadata": {},
   "outputs": [
    {
     "data": {
      "text/plain": [
       "10102                                            Discovery\n",
       "4228                        Access Control / Modifier Bugs\n",
       "3771     Training Data Attribution using Influence Func...\n",
       "12227                               File Activity Timeline\n",
       "1105       Extraction of Vector Spaces via Similarity APIs\n",
       "Name: Attack Type, dtype: object"
      ]
     },
     "execution_count": 46,
     "metadata": {},
     "output_type": "execute_result"
    }
   ],
   "source": [
    "df['Attack Type'].sample(n=5, random_state=101)"
   ]
  },
  {
   "cell_type": "code",
   "execution_count": 47,
   "id": "7c674a87-2765-4e7c-8240-44014e30ffee",
   "metadata": {},
   "outputs": [
    {
     "data": {
      "text/plain": [
       "Attack Type\n",
       "Hardware Interface Exploitation        161\n",
       "Wireless Attacks (Advanced)             95\n",
       "Dependency Confusion                    91\n",
       "Fuzzer Configuration                    75\n",
       "Malicious Libraries                     74\n",
       "                                      ... \n",
       "JWT Token Tampering                      1\n",
       "Backend Deserialization Exploit          1\n",
       "Serverless Function Deserialization      1\n",
       "Deserialization in MQ Systems            1\n",
       "Constellation Relay Spoofing             1\n",
       "Name: count, Length: 8834, dtype: int64"
      ]
     },
     "execution_count": 47,
     "metadata": {},
     "output_type": "execute_result"
    }
   ],
   "source": [
    "df['Attack Type'].value_counts()"
   ]
  },
  {
   "cell_type": "markdown",
   "id": "f50880a7-0afe-4c38-96fc-199292258c5b",
   "metadata": {},
   "source": [
    "### At a later stage of the analysis, I realized that I would use this type of chart many times, so I decided to write a function to avoid repeating the same code"
   ]
  },
  {
   "cell_type": "code",
   "execution_count": 49,
   "id": "b59d12db-c4d5-462a-a4f2-91b90a73c664",
   "metadata": {},
   "outputs": [],
   "source": [
    "def create_top_n_plot(data_frame: pd.DataFrame, column_name: str, n: int, title: str = None) -> None:\n",
    "    \"\"\"\n",
    "    Creates a bar chart showing the top n most frequently occurring values in a column.\n",
    "    \n",
    "    Parameters:\n",
    "    \n",
    "    data_frame (pd.DataFrame): The DataFrame containing the data.\n",
    "    \n",
    "    column_name (str): The name of the column you want to analyze.\n",
    "    \n",
    "    n (int): The number of most frequently occurring values to show.\n",
    "    \n",
    "    Returns: None\n",
    "    \"\"\"\n",
    "\n",
    "    column_counts = data_frame[column_name].value_counts().head(n)\n",
    "    column_labels = [label.replace(' ', '\\n') for label in column_counts.index]\n",
    "    \n",
    "    plt.figure(figsize=(12,6))\n",
    "\n",
    "    if title == None:\n",
    "        plt.title(f'Top {n} most popular {column_name}', fontsize=14)\n",
    "    else:\n",
    "        plt.title(title, fontsize=14)\n",
    "        \n",
    "    plt.xticks(fontsize=10)\n",
    "    plt.ylabel('Number of records')\n",
    "\n",
    "    sns.barplot(x=column_labels, y=column_counts.values, palette='crest')\n",
    "    plt.tight_layout()\n",
    "    plt.show()"
   ]
  },
  {
   "cell_type": "code",
   "execution_count": 50,
   "id": "9297849b-eae2-4893-acc8-5c449a77e11d",
   "metadata": {},
   "outputs": [
    {
     "name": "stderr",
     "output_type": "stream",
     "text": [
      "/var/folders/th/kwb7gr5960bcybggr8f7glh80000gn/T/ipykernel_14719/117996423.py:29: FutureWarning: \n",
      "\n",
      "Passing `palette` without assigning `hue` is deprecated and will be removed in v0.14.0. Assign the `x` variable to `hue` and set `legend=False` for the same effect.\n",
      "\n",
      "  sns.barplot(x=column_labels, y=column_counts.values, palette='crest')\n"
     ]
    },
    {
     "data": {
      "image/png": "[encoded data removed]",
      "text/plain": [
       "<Figure size 1200x600 with 1 Axes>"
      ]
     },
     "metadata": {},
     "output_type": "display_data"
    }
   ],
   "source": [
    "create_top_n_plot(data_frame=df, column_name='Attack Type', n=10)"
   ]
  },
  {
   "cell_type": "markdown",
   "id": "4e5d3596-aa9a-426f-b52b-d81a146119d7",
   "metadata": {},
   "source": [
    "We can see that most common attack is 'Hardware Interface Exploitation' what make sense with 'Physical / Hardware Attacks' most popular category."
   ]
  },
  {
   "cell_type": "code",
   "execution_count": 52,
   "id": "5770fd01-2f2f-48c7-967b-efc4650d6315",
   "metadata": {},
   "outputs": [],
   "source": [
    "# check tools used and inpact based on each attack type "
   ]
  },
  {
   "cell_type": "code",
   "execution_count": 53,
   "id": "5e9b6bb0-70bb-4f88-bba0-bbedcf62b5d0",
   "metadata": {},
   "outputs": [
    {
     "data": {
      "text/plain": [
       "8834"
      ]
     },
     "execution_count": 53,
     "metadata": {},
     "output_type": "execute_result"
    }
   ],
   "source": [
    "len(df['Attack Type'].unique())"
   ]
  },
  {
   "cell_type": "markdown",
   "id": "f3f24ede-a66d-4848-9f2e-6faedfffcf51",
   "metadata": {},
   "source": [
    "## Tools Used ##"
   ]
  },
  {
   "cell_type": "code",
   "execution_count": 55,
   "id": "17587362-ee76-4fe9-997c-f899d7b4d350",
   "metadata": {},
   "outputs": [
    {
     "data": {
      "text/plain": [
       "0                          Browser, Burp Suite, SQLMap\n",
       "1    SQLMap, Burp Suite, Havij, Browser Developer T...\n",
       "2    SQLMap, Burp Suite, Manual Browser Testing, Havij\n",
       "3    SQLMap, Burp Suite, sqlninja, Manual Browser T...\n",
       "4    Burp Suite, SQLMap, Postman, Browser Dev Tools...\n",
       "Name: Tools Used, dtype: object"
      ]
     },
     "execution_count": 55,
     "metadata": {},
     "output_type": "execute_result"
    }
   ],
   "source": [
    "df['Tools Used'].head()"
   ]
  },
  {
   "cell_type": "code",
   "execution_count": 56,
   "id": "ff541fdf-85a5-40e0-a23d-0fe97aea20c2",
   "metadata": {},
   "outputs": [
    {
     "data": {
      "text/plain": [
       "str"
      ]
     },
     "execution_count": 56,
     "metadata": {},
     "output_type": "execute_result"
    }
   ],
   "source": [
    "type(df['Tools Used'][1])"
   ]
  },
  {
   "cell_type": "markdown",
   "id": "3dad5a5f-9818-452e-b342-45043247f2a5",
   "metadata": {},
   "source": [
    "We can see that the \"Tools Used\" column contains text objects representing lists of tools. This means that checking even the most popular ones requires some transformation of this data. Later, I'd like to split these strings and convert them into actual Python list objects to get more interesting results."
   ]
  },
  {
   "cell_type": "code",
   "execution_count": 58,
   "id": "aa891a72-5d44-488a-b67c-180926e1756f",
   "metadata": {},
   "outputs": [
    {
     "data": {
      "text/plain": [
       "['SQLMap', 'Burp Suite', 'Havij', 'Browser Developer Tools']"
      ]
     },
     "execution_count": 58,
     "metadata": {},
     "output_type": "execute_result"
    }
   ],
   "source": [
    "df['Tools Used'][1].split(sep=', ')"
   ]
  },
  {
   "cell_type": "code",
   "execution_count": 59,
   "id": "bb1fefaa-bb62-4e0a-b32f-d6ac8c6d3bc8",
   "metadata": {},
   "outputs": [
    {
     "data": {
      "text/plain": [
       "Tools Used\n",
       "Velociraptor                                        18\n",
       "Remix IDE, Ganache, Metamask, Hardhat, ethers.js    17\n",
       "SDR, GPS Simulator                                  17\n",
       "KAPE                                                17\n",
       "Burp Suite, Browser Dev Tools                       14\n",
       "CMD                                                 14\n",
       "GRR Rapid Response                                  13\n",
       "Scapy, Wireshark                                    13\n",
       "AFL++, libFuzzer                                    13\n",
       "RF Jammer, Signal Analyzer                          11\n",
       "libFuzzer                                           11\n",
       "Browser, Burp Suite, sqlmap                         11\n",
       "Burp Suite, curl                                    10\n",
       "See tools table below                               10\n",
       "Directional RF Jammer                                9\n",
       "Burp Suite, XSS Hunter                               9\n",
       "GitHub Actions                                       8\n",
       "Burp Suite, Firefox DevTools                         8\n",
       "Burp Suite, Postman                                  8\n",
       "PowerShell                                           8\n",
       "HackRF One, URH                                      7\n",
       "Burp Suite, Netcat                                   7\n",
       "Browser dev tools, intercepting proxies              7\n",
       "Scapy, ModbusPal                                     7\n",
       "File Explorer                                        7\n",
       "Name: count, dtype: int64"
      ]
     },
     "execution_count": 59,
     "metadata": {},
     "output_type": "execute_result"
    }
   ],
   "source": [
    "df['Tools Used'].value_counts().head(25)"
   ]
  },
  {
   "cell_type": "code",
   "execution_count": 60,
   "id": "c8b7d44b-3c85-41f7-999e-d8b321dd518a",
   "metadata": {},
   "outputs": [
    {
     "data": {
      "text/plain": [
       "12936"
      ]
     },
     "execution_count": 60,
     "metadata": {},
     "output_type": "execute_result"
    }
   ],
   "source": [
    "len(df['Tools Used'].unique())"
   ]
  },
  {
   "cell_type": "markdown",
   "id": "470cea19-dba5-42db-86ac-a1ef5b425db8",
   "metadata": {},
   "source": [
    "## This chart shows the tools used in attacks before they were extracted from the lists. I left it in this analysis to show how different conclusions can be based on how the data is interpreted."
   ]
  },
  {
   "cell_type": "code",
   "execution_count": 62,
   "id": "3e068660-46d5-4ff7-bf5c-33e9d6672bfd",
   "metadata": {},
   "outputs": [
    {
     "name": "stderr",
     "output_type": "stream",
     "text": [
      "/var/folders/th/kwb7gr5960bcybggr8f7glh80000gn/T/ipykernel_14719/117996423.py:29: FutureWarning: \n",
      "\n",
      "Passing `palette` without assigning `hue` is deprecated and will be removed in v0.14.0. Assign the `x` variable to `hue` and set `legend=False` for the same effect.\n",
      "\n",
      "  sns.barplot(x=column_labels, y=column_counts.values, palette='crest')\n"
     ]
    },
    {
     "data": {
      "image/png": "[encoded data removed]",
      "text/plain": [
       "<Figure size 1200x600 with 1 Axes>"
      ]
     },
     "metadata": {},
     "output_type": "display_data"
    }
   ],
   "source": [
    "create_top_n_plot(df, 'Tools Used', 10, title='The most common Tools Used before extraction')"
   ]
  },
  {
   "cell_type": "markdown",
   "id": "369b91ff-8794-4cb4-a290-d8fbada4cebb",
   "metadata": {},
   "source": [
    "### As I mentioned earlier, let's convert the string object into a list and extract information about the programs most commonly used during attacks."
   ]
  },
  {
   "cell_type": "code",
   "execution_count": 64,
   "id": "a20ab88e-48d3-4d3e-b877-c47cf4d48c2c",
   "metadata": {},
   "outputs": [],
   "source": [
    "# Split tools string into list\n",
    "df['Tools List'] = df['Tools Used'].str.split(', ')"
   ]
  },
  {
   "cell_type": "code",
   "execution_count": 65,
   "id": "b111cf2b-5b1c-4eb2-bc9b-d3a05c5f7e36",
   "metadata": {},
   "outputs": [],
   "source": [
    "tools_exploded = df.explode('Tools List')"
   ]
  },
  {
   "cell_type": "code",
   "execution_count": 66,
   "id": "e8d7ca36-0283-4da9-94ff-4ba0203325c4",
   "metadata": {},
   "outputs": [
    {
     "data": {
      "text/plain": [
       "Tools List\n",
       "Burp Suite                          1117\n",
       "Wireshark                            711\n",
       "Python                               507\n",
       "curl                                 486\n",
       "Postman                              289\n",
       "                                    ... \n",
       "Prompt Engineering Kits                1\n",
       "BackProp Exploit Scripts               1\n",
       "MIA Test Suites                        1\n",
       "Stable Diffusion + CLIP Guidance       1\n",
       "Standard Framework Matrix              1\n",
       "Name: count, Length: 14904, dtype: int64"
      ]
     },
     "execution_count": 66,
     "metadata": {},
     "output_type": "execute_result"
    }
   ],
   "source": [
    "tool_counts = tools_exploded['Tools List'].value_counts()\n",
    "tool_counts"
   ]
  },
  {
   "cell_type": "code",
   "execution_count": 67,
   "id": "b1de5836-035b-4e2f-96fc-1b2d23002912",
   "metadata": {},
   "outputs": [
    {
     "name": "stderr",
     "output_type": "stream",
     "text": [
      "/var/folders/th/kwb7gr5960bcybggr8f7glh80000gn/T/ipykernel_14719/2678768015.py:3: FutureWarning: \n",
      "\n",
      "Passing `palette` without assigning `hue` is deprecated and will be removed in v0.14.0. Assign the `x` variable to `hue` and set `legend=False` for the same effect.\n",
      "\n",
      "  sns.barplot(data=tool_counts.head(10), palette='crest_r')\n"
     ]
    },
    {
     "data": {
      "text/plain": [
       "<Axes: title={'center': 'Top 10 most popular tools used in attacks'}, xlabel='Tools List', ylabel='count'>"
      ]
     },
     "execution_count": 67,
     "metadata": {},
     "output_type": "execute_result"
    },
    {
     "data": {
      "image/png": "[encoded data removed]",
      "text/plain": [
       "<Figure size 640x480 with 1 Axes>"
      ]
     },
     "metadata": {},
     "output_type": "display_data"
    }
   ],
   "source": [
    "plt.xticks(rotation=90, fontsize=10)\n",
    "plt.title('Top 10 most popular tools used in attacks')\n",
    "sns.barplot(data=tool_counts.head(10), palette='crest_r')"
   ]
  },
  {
   "cell_type": "code",
   "execution_count": 68,
   "id": "58e2e074-4c78-41c8-ad45-1c527d76931e",
   "metadata": {},
   "outputs": [
    {
     "data": {
      "text/plain": [
       "Tools List\n",
       "Burp Suite    1117\n",
       "Wireshark      711\n",
       "Python         507\n",
       "curl           486\n",
       "Postman        289\n",
       "PowerShell     265\n",
       "bash           251\n",
       "Scapy          234\n",
       "Browser        196\n",
       "PyTorch        190\n",
       "Name: count, dtype: int64"
      ]
     },
     "execution_count": 68,
     "metadata": {},
     "output_type": "execute_result"
    }
   ],
   "source": [
    "tool_counts.head(10)"
   ]
  },
  {
   "cell_type": "code",
   "execution_count": 69,
   "id": "5e66dd8f-49ba-4a26-9478-decb6a71fb56",
   "metadata": {},
   "outputs": [
    {
     "data": {
      "text/plain": [
       "(14904,)"
      ]
     },
     "execution_count": 69,
     "metadata": {},
     "output_type": "execute_result"
    }
   ],
   "source": [
    "tool_counts.shape"
   ]
  },
  {
   "cell_type": "markdown",
   "id": "dfa3e9d2-7ea9-4ae5-8c9c-aa4d669003a9",
   "metadata": {},
   "source": [
    "## Attack Steps ##"
   ]
  },
  {
   "cell_type": "code",
   "execution_count": 71,
   "id": "d112d4c5-9955-4f09-8a5c-766c561dc938",
   "metadata": {},
   "outputs": [
    {
     "data": {
      "text/plain": [
       "\"1. Identify User Input Points: Attacker finds a search bar, login form, or URL that interacts with the database. 2. Test for Vulnerability: Attacker inputs a single quote ' to break the query. If error messages or unusual behavior occur, it may be vulnerable. 3. Use UNION Operator: Attacker tries to use UNION SELECT to combine their own query with the original one. This reveals additional columns/data. 4. Find Number of Columns: Attacker uses tricks like ORDER BY or trial-and-error UNION SELECT NULL,NULL,... to match the column count of the original query. 5. Extract Data: Once matched, attacker replaces NULL values with username, password, or email columns to steal data. 6. Bypass and Automate: Tools like SQLMap automate this entire process, pulling sensitive data quickly.\""
      ]
     },
     "execution_count": 71,
     "metadata": {},
     "output_type": "execute_result"
    }
   ],
   "source": [
    "df['Attack Steps '][1]"
   ]
  },
  {
   "cell_type": "code",
   "execution_count": 72,
   "id": "a81e32e5-85d1-42ff-a924-9c9200b03b2d",
   "metadata": {},
   "outputs": [],
   "source": [
    "df.rename({'Attack Steps ': 'Attack Steps'}, axis=1, inplace=True)"
   ]
  },
  {
   "cell_type": "markdown",
   "id": "8c47b194-9474-4899-b2df-a71c7027e37f",
   "metadata": {},
   "source": [
    "At this point I noticed that there was an unnecessary space at the end of the column name, let's remove it"
   ]
  },
  {
   "cell_type": "code",
   "execution_count": 74,
   "id": "cd769812-b730-4854-bd7e-77cbb90f2a9c",
   "metadata": {},
   "outputs": [
    {
     "data": {
      "text/plain": [
       "13895"
      ]
     },
     "execution_count": 74,
     "metadata": {},
     "output_type": "execute_result"
    }
   ],
   "source": [
    "# Checking for how unique descriptions.\n",
    "len(df['Attack Steps'].unique())"
   ]
  },
  {
   "cell_type": "code",
   "execution_count": 75,
   "id": "03034111-25e7-4a2b-bed4-dd431550aa40",
   "metadata": {},
   "outputs": [
    {
     "data": {
      "text/plain": [
       "14133"
      ]
     },
     "execution_count": 75,
     "metadata": {},
     "output_type": "execute_result"
    }
   ],
   "source": [
    "# Checking total number of values.\n",
    "len(df['Attack Steps'])"
   ]
  },
  {
   "cell_type": "markdown",
   "id": "c1787a59-34ce-4062-a6e9-542fdfd36e58",
   "metadata": {},
   "source": [
    "The Attack Steps column contains a description of the attack process. Based on this, you can try to train a neural network that predicts, for example, the type of attack or its damage. However, I will leave this for now."
   ]
  },
  {
   "cell_type": "markdown",
   "id": "868202fc-4ac8-4cb3-bc57-5b7f8b5de405",
   "metadata": {},
   "source": [
    "## Scenario Description ##"
   ]
  },
  {
   "cell_type": "code",
   "execution_count": 78,
   "id": "c78518a8-6da9-4be3-b69e-a1f6774b925d",
   "metadata": {},
   "outputs": [
    {
     "data": {
      "text/plain": [
       "0        A login form fails to validate or sanitize inp...\n",
       "1        This attack occurs when a hacker uses the SQL ...\n",
       "2        This attack occurs when an attacker intentiona...\n",
       "3        In Blind SQL Injection, the attacker doesn’t s...\n",
       "4        In a Second-Order SQL Injection, the attacker ...\n",
       "                               ...                        \n",
       "14128    Researching machine learning models to classif...\n",
       "14129    Organizing hands-on workshop between agencies ...\n",
       "14130    Creating a secure national simulation environm...\n",
       "14131    Designing a scanner tailored to satellite firm...\n",
       "14132    Measuring alignment with cyber standards acros...\n",
       "Name: Scenario Description, Length: 14133, dtype: object"
      ]
     },
     "execution_count": 78,
     "metadata": {},
     "output_type": "execute_result"
    }
   ],
   "source": [
    "df['Scenario Description']"
   ]
  },
  {
   "cell_type": "code",
   "execution_count": 79,
   "id": "519cace7-63ec-4ae5-9802-e094b77738c3",
   "metadata": {},
   "outputs": [
    {
     "data": {
      "text/plain": [
       "'This attack occurs when a hacker uses the SQL \"UNION\" operator to combine results from a malicious query with a legitimate one, often gaining access to hidden data from the database through a vulnerable web application.'"
      ]
     },
     "execution_count": 79,
     "metadata": {},
     "output_type": "execute_result"
    }
   ],
   "source": [
    "df['Scenario Description'][1]"
   ]
  },
  {
   "cell_type": "markdown",
   "id": "66336da9-2da8-4ec2-bd21-ef81191d54ac",
   "metadata": {},
   "source": [
    "The same case as above"
   ]
  },
  {
   "cell_type": "markdown",
   "id": "c8c2e095-1239-46d4-8fff-149b2cfdf3b2",
   "metadata": {},
   "source": [
    "## Target Type ##"
   ]
  },
  {
   "cell_type": "code",
   "execution_count": 82,
   "id": "5414e868-05bb-4b5c-a2b4-3b5bb4822a28",
   "metadata": {},
   "outputs": [
    {
     "data": {
      "text/plain": [
       "Target Type\n",
       "Windows                     291\n",
       "Workstation                 109\n",
       "Satellite                    78\n",
       "Endpoint                     50\n",
       "Android App                  46\n",
       "Windows Host                 42\n",
       "Wireless Networks            36\n",
       "GitHub Actions               36\n",
       "Infotainment System          35\n",
       "Windows Workstation          34\n",
       "PLC                          33\n",
       "Internal Network             31\n",
       "Passenger Vehicle            31\n",
       "ECU                          30\n",
       "Android Device               28\n",
       "Ethereum Smart Contracts     28\n",
       "Wallet Users                 28\n",
       "Workstations                 26\n",
       "Windows Hosts                26\n",
       "Kubernetes Cluster           25\n",
       "Windows System               24\n",
       "Browser                      24\n",
       "Mail Server                  23\n",
       "Application                  22\n",
       "Server                       21\n",
       "Name: count, dtype: int64"
      ]
     },
     "execution_count": 82,
     "metadata": {},
     "output_type": "execute_result"
    }
   ],
   "source": [
    "df['Target Type'].value_counts().head(25)"
   ]
  },
  {
   "cell_type": "code",
   "execution_count": 83,
   "id": "7f679857-6a95-4d2b-ae67-88affdfcf730",
   "metadata": {},
   "outputs": [
    {
     "data": {
      "text/plain": [
       "9886"
      ]
     },
     "execution_count": 83,
     "metadata": {},
     "output_type": "execute_result"
    }
   ],
   "source": [
    "len(df['Target Type'].unique())"
   ]
  },
  {
   "cell_type": "code",
   "execution_count": 84,
   "id": "8f635008-f281-415b-a0e6-bfffbcba198b",
   "metadata": {},
   "outputs": [
    {
     "name": "stderr",
     "output_type": "stream",
     "text": [
      "/var/folders/th/kwb7gr5960bcybggr8f7glh80000gn/T/ipykernel_14719/117996423.py:29: FutureWarning: \n",
      "\n",
      "Passing `palette` without assigning `hue` is deprecated and will be removed in v0.14.0. Assign the `x` variable to `hue` and set `legend=False` for the same effect.\n",
      "\n",
      "  sns.barplot(x=column_labels, y=column_counts.values, palette='crest')\n"
     ]
    },
    {
     "data": {
      "image/png": "[encoded data removed]",
      "text/plain": [
       "<Figure size 1200x600 with 1 Axes>"
      ]
     },
     "metadata": {},
     "output_type": "display_data"
    }
   ],
   "source": [
    "create_top_n_plot(data_frame=df, column_name='Target Type', n=10)"
   ]
  },
  {
   "cell_type": "code",
   "execution_count": 85,
   "id": "ff65bb15-c05c-4f6f-bb4f-a50a08eab870",
   "metadata": {},
   "outputs": [
    {
     "data": {
      "text/plain": [
       "845"
      ]
     },
     "execution_count": 85,
     "metadata": {},
     "output_type": "execute_result"
    }
   ],
   "source": [
    "df['Target Type'][df['Target Type'].str.startswith('Windows', na=False)].value_counts().sum()"
   ]
  },
  {
   "cell_type": "code",
   "execution_count": 86,
   "id": "d321abda-3acb-4e95-aef0-d06dc802ed53",
   "metadata": {},
   "outputs": [
    {
     "data": {
      "text/plain": [
       "232"
      ]
     },
     "execution_count": 86,
     "metadata": {},
     "output_type": "execute_result"
    }
   ],
   "source": [
    "len(df['Target Type'][df['Target Type'].str.startswith('Windows', na=False)].unique())"
   ]
  },
  {
   "cell_type": "code",
   "execution_count": 87,
   "id": "247ec53c-bc04-4ef2-9f73-ad73a2fd30ff",
   "metadata": {},
   "outputs": [],
   "source": [
    "web_target_type = df[df['Target Type'].str.startswith('Web', na=False)]"
   ]
  },
  {
   "cell_type": "code",
   "execution_count": 88,
   "id": "a857584d-8916-4f38-b8a5-642d58d16250",
   "metadata": {},
   "outputs": [
    {
     "data": {
      "text/html": [
       "<div>\n",
       "<style scoped>\n",
       "    .dataframe tbody tr th:only-of-type {\n",
       "        vertical-align: middle;\n",
       "    }\n",
       "\n",
       "    .dataframe tbody tr th {\n",
       "        vertical-align: top;\n",
       "    }\n",
       "\n",
       "    .dataframe thead th {\n",
       "        text-align: right;\n",
       "    }\n",
       "</style>\n",
       "<table border=\"1\" class=\"dataframe\">\n",
       "  <thead>\n",
       "    <tr style=\"text-align: right;\">\n",
       "      <th></th>\n",
       "      <th>ID</th>\n",
       "      <th>Title</th>\n",
       "      <th>Category</th>\n",
       "      <th>Attack Type</th>\n",
       "      <th>Scenario Description</th>\n",
       "      <th>Tools Used</th>\n",
       "      <th>Attack Steps</th>\n",
       "      <th>Target Type</th>\n",
       "      <th>Vulnerability</th>\n",
       "      <th>MITRE Technique</th>\n",
       "      <th>Impact</th>\n",
       "      <th>Detection Method</th>\n",
       "      <th>Solution</th>\n",
       "      <th>Tags</th>\n",
       "      <th>Source</th>\n",
       "      <th>Unnamed: 15</th>\n",
       "      <th>Tools List</th>\n",
       "    </tr>\n",
       "  </thead>\n",
       "  <tbody>\n",
       "    <tr>\n",
       "      <th>3254</th>\n",
       "      <td>3255</td>\n",
       "      <td>YAML Deserialization Leading to Arbitrary Code...</td>\n",
       "      <td>Web Application Security</td>\n",
       "      <td>Insecure YAML Deserialization</td>\n",
       "      <td>YAML parser loads untrusted YAML input which c...</td>\n",
       "      <td>YAML parsers, Burp Suite</td>\n",
       "      <td>Step 1: Identify an app feature parsing YAML i...</td>\n",
       "      <td>Web APIs</td>\n",
       "      <td>Unsafe YAML Deserialization</td>\n",
       "      <td>T1214 – Insecure Deserialization</td>\n",
       "      <td>Remote code execution, system compromise</td>\n",
       "      <td>Log YAML parsing errors or suspicious commands...</td>\n",
       "      <td>Use safe YAML loading methods; restrict allowe...</td>\n",
       "      <td>YAML, Deserialization</td>\n",
       "      <td>OWASP, MITRE</td>\n",
       "      <td>NaN</td>\n",
       "      <td>[YAML parsers, Burp Suite]</td>\n",
       "    </tr>\n",
       "    <tr>\n",
       "      <th>1862</th>\n",
       "      <td>1863</td>\n",
       "      <td>Webhook Header Injection</td>\n",
       "      <td>AI Agents &amp; LLM Exploits</td>\n",
       "      <td>Reverse Flow Injection via Webhook Headers</td>\n",
       "      <td>Malicious headers are included in a webhook th...</td>\n",
       "      <td>Ngrok, Burp Suite, Postman, Webhook.site, Zapi...</td>\n",
       "      <td>Step 1: Attacker discovers or configures a web...</td>\n",
       "      <td>Webhooks, AI agents, LLM Automation</td>\n",
       "      <td>Prompt hidden in custom HTTP header</td>\n",
       "      <td>T1190 – Exploit Public-Facing App</td>\n",
       "      <td>LLM responds with attacker-controlled outputs</td>\n",
       "      <td>Scan and restrict incoming webhook headers for...</td>\n",
       "      <td>Sanitize all incoming webhook headers; separat...</td>\n",
       "      <td>Webhook Prompt Injection, Reverse Flow, Header...</td>\n",
       "      <td>OWASP AI Top 10, Zapier Docs</td>\n",
       "      <td>NaN</td>\n",
       "      <td>[Ngrok, Burp Suite, Postman, Webhook.site, Zap...</td>\n",
       "    </tr>\n",
       "    <tr>\n",
       "      <th>7411</th>\n",
       "      <td>7412</td>\n",
       "      <td>Web Server Backdoor with PHP Shell</td>\n",
       "      <td>Malware &amp; Threat</td>\n",
       "      <td>Backdoor Implant</td>\n",
       "      <td>Attacker uploads a PHP shell to a web server a...</td>\n",
       "      <td>Kali Linux, PHP Shell (e.g., c99.php), Burp Suite</td>\n",
       "      <td>Step 1: Attacker finds a vulnerable file uploa...</td>\n",
       "      <td>Web Server (Apache+PHP)</td>\n",
       "      <td>Insecure upload validation</td>\n",
       "      <td>T1505, T1190</td>\n",
       "      <td>Remote code execution via browser</td>\n",
       "      <td>Web traffic monitoring, anomaly detection</td>\n",
       "      <td>Secure file uploads, block .php files in uploa...</td>\n",
       "      <td>webshell, php, rce, webserver</td>\n",
       "      <td>Simulated</td>\n",
       "      <td>NaN</td>\n",
       "      <td>[Kali Linux, PHP Shell (e.g., c99.php), Burp S...</td>\n",
       "    </tr>\n",
       "    <tr>\n",
       "      <th>2450</th>\n",
       "      <td>2451</td>\n",
       "      <td>Web Server Logs with %n in URL Field</td>\n",
       "      <td>Operating System Exploits</td>\n",
       "      <td>Format string injection in URL logs</td>\n",
       "      <td>Web servers often log URLs. If %n is logged wi...</td>\n",
       "      <td>curl, wget, burp, nginx, apache2</td>\n",
       "      <td>Step 1: Open your terminal or browser and send...</td>\n",
       "      <td>Web Servers (Apache/Nginx)</td>\n",
       "      <td>Unsafe logging of URL without format escape</td>\n",
       "      <td>T1203 – Exploitation for Priv Escalation</td>\n",
       "      <td>Memory write, DoS, potential RCE</td>\n",
       "      <td>Analyze web access logs for special symbols li...</td>\n",
       "      <td>Use structured logging functions; validate and...</td>\n",
       "      <td>Format String, Web Server, URL Injection</td>\n",
       "      <td>OWASP, Apache Docs</td>\n",
       "      <td>NaN</td>\n",
       "      <td>[curl, wget, burp, nginx, apache2]</td>\n",
       "    </tr>\n",
       "    <tr>\n",
       "      <th>4404</th>\n",
       "      <td>4405</td>\n",
       "      <td>Client-side Randomness (Frontend RNG)</td>\n",
       "      <td>Blockchain / Web3</td>\n",
       "      <td>Tampered JavaScript RNG in Frontend</td>\n",
       "      <td>DApps sometimes generate random numbers in the...</td>\n",
       "      <td>Browser DevTools, Remix, MetaMask, Chrome Exte...</td>\n",
       "      <td>Step 1: The developer writes frontend JavaScri...</td>\n",
       "      <td>Web3 Frontends, NFT DApps</td>\n",
       "      <td>RNG generated in browser, attacker-controlled</td>\n",
       "      <td>T1612 – Manipulate Client-Generated Input</td>\n",
       "      <td>Guaranteed rare traits, jackpot, or unfair out...</td>\n",
       "      <td>Check frontend vs on-chain entropy use; valida...</td>\n",
       "      <td>Reject user-supplied randomness; always use on...</td>\n",
       "      <td>JS RNG Exploit, Frontend Manipulation, NFT Tra...</td>\n",
       "      <td>Web3Audit Reports, OpenZeppelin Blog</td>\n",
       "      <td>NaN</td>\n",
       "      <td>[Browser DevTools, Remix, MetaMask, Chrome Ext...</td>\n",
       "    </tr>\n",
       "  </tbody>\n",
       "</table>\n",
       "</div>"
      ],
      "text/plain": [
       "        ID                                              Title  \\\n",
       "3254  3255  YAML Deserialization Leading to Arbitrary Code...   \n",
       "1862  1863                           Webhook Header Injection   \n",
       "7411  7412                 Web Server Backdoor with PHP Shell   \n",
       "2450  2451               Web Server Logs with %n in URL Field   \n",
       "4404  4405              Client-side Randomness (Frontend RNG)   \n",
       "\n",
       "                       Category                                 Attack Type  \\\n",
       "3254   Web Application Security               Insecure YAML Deserialization   \n",
       "1862   AI Agents & LLM Exploits  Reverse Flow Injection via Webhook Headers   \n",
       "7411           Malware & Threat                            Backdoor Implant   \n",
       "2450  Operating System Exploits         Format string injection in URL logs   \n",
       "4404          Blockchain / Web3         Tampered JavaScript RNG in Frontend   \n",
       "\n",
       "                                   Scenario Description  \\\n",
       "3254  YAML parser loads untrusted YAML input which c...   \n",
       "1862  Malicious headers are included in a webhook th...   \n",
       "7411  Attacker uploads a PHP shell to a web server a...   \n",
       "2450  Web servers often log URLs. If %n is logged wi...   \n",
       "4404  DApps sometimes generate random numbers in the...   \n",
       "\n",
       "                                             Tools Used  \\\n",
       "3254                           YAML parsers, Burp Suite   \n",
       "1862  Ngrok, Burp Suite, Postman, Webhook.site, Zapi...   \n",
       "7411  Kali Linux, PHP Shell (e.g., c99.php), Burp Suite   \n",
       "2450                   curl, wget, burp, nginx, apache2   \n",
       "4404  Browser DevTools, Remix, MetaMask, Chrome Exte...   \n",
       "\n",
       "                                           Attack Steps  \\\n",
       "3254  Step 1: Identify an app feature parsing YAML i...   \n",
       "1862  Step 1: Attacker discovers or configures a web...   \n",
       "7411  Step 1: Attacker finds a vulnerable file uploa...   \n",
       "2450  Step 1: Open your terminal or browser and send...   \n",
       "4404  Step 1: The developer writes frontend JavaScri...   \n",
       "\n",
       "                              Target Type  \\\n",
       "3254                             Web APIs   \n",
       "1862  Webhooks, AI agents, LLM Automation   \n",
       "7411              Web Server (Apache+PHP)   \n",
       "2450           Web Servers (Apache/Nginx)   \n",
       "4404            Web3 Frontends, NFT DApps   \n",
       "\n",
       "                                      Vulnerability  \\\n",
       "3254                    Unsafe YAML Deserialization   \n",
       "1862            Prompt hidden in custom HTTP header   \n",
       "7411                     Insecure upload validation   \n",
       "2450    Unsafe logging of URL without format escape   \n",
       "4404  RNG generated in browser, attacker-controlled   \n",
       "\n",
       "                                MITRE Technique  \\\n",
       "3254           T1214 – Insecure Deserialization   \n",
       "1862          T1190 – Exploit Public-Facing App   \n",
       "7411                               T1505, T1190   \n",
       "2450   T1203 – Exploitation for Priv Escalation   \n",
       "4404  T1612 – Manipulate Client-Generated Input   \n",
       "\n",
       "                                                 Impact  \\\n",
       "3254           Remote code execution, system compromise   \n",
       "1862      LLM responds with attacker-controlled outputs   \n",
       "7411                  Remote code execution via browser   \n",
       "2450                   Memory write, DoS, potential RCE   \n",
       "4404  Guaranteed rare traits, jackpot, or unfair out...   \n",
       "\n",
       "                                       Detection Method  \\\n",
       "3254  Log YAML parsing errors or suspicious commands...   \n",
       "1862  Scan and restrict incoming webhook headers for...   \n",
       "7411          Web traffic monitoring, anomaly detection   \n",
       "2450  Analyze web access logs for special symbols li...   \n",
       "4404  Check frontend vs on-chain entropy use; valida...   \n",
       "\n",
       "                                               Solution  \\\n",
       "3254  Use safe YAML loading methods; restrict allowe...   \n",
       "1862  Sanitize all incoming webhook headers; separat...   \n",
       "7411  Secure file uploads, block .php files in uploa...   \n",
       "2450  Use structured logging functions; validate and...   \n",
       "4404  Reject user-supplied randomness; always use on...   \n",
       "\n",
       "                                                   Tags  \\\n",
       "3254                              YAML, Deserialization   \n",
       "1862  Webhook Prompt Injection, Reverse Flow, Header...   \n",
       "7411                      webshell, php, rce, webserver   \n",
       "2450           Format String, Web Server, URL Injection   \n",
       "4404  JS RNG Exploit, Frontend Manipulation, NFT Tra...   \n",
       "\n",
       "                                    Source Unnamed: 15  \\\n",
       "3254                          OWASP, MITRE         NaN   \n",
       "1862          OWASP AI Top 10, Zapier Docs         NaN   \n",
       "7411                             Simulated         NaN   \n",
       "2450                    OWASP, Apache Docs         NaN   \n",
       "4404  Web3Audit Reports, OpenZeppelin Blog         NaN   \n",
       "\n",
       "                                             Tools List  \n",
       "3254                         [YAML parsers, Burp Suite]  \n",
       "1862  [Ngrok, Burp Suite, Postman, Webhook.site, Zap...  \n",
       "7411  [Kali Linux, PHP Shell (e.g., c99.php), Burp S...  \n",
       "2450                 [curl, wget, burp, nginx, apache2]  \n",
       "4404  [Browser DevTools, Remix, MetaMask, Chrome Ext...  "
      ]
     },
     "execution_count": 88,
     "metadata": {},
     "output_type": "execute_result"
    }
   ],
   "source": [
    "web_target_type.sample(n=5, random_state=101)"
   ]
  },
  {
   "cell_type": "code",
   "execution_count": 89,
   "id": "009bb280-9109-4ec9-a1d2-1a03d0331d75",
   "metadata": {},
   "outputs": [
    {
     "data": {
      "text/plain": [
       "Target Type\n",
       "Web Browser                                  20\n",
       "Web Applications                             19\n",
       "Web applications                             16\n",
       "Web App                                      13\n",
       "Web apps                                     12\n",
       "                                             ..\n",
       "WebView or DOM Vision Agent                   1\n",
       "Webview in Mobile App                         1\n",
       "WebView or Preview Tools in Mobile Agents     1\n",
       "Web-enabled LLM Agents                        1\n",
       "Web-Based Satellite Interface                 1\n",
       "Name: count, Length: 416, dtype: int64"
      ]
     },
     "execution_count": 89,
     "metadata": {},
     "output_type": "execute_result"
    }
   ],
   "source": [
    "web_target_type['Target Type'].value_counts()"
   ]
  },
  {
   "cell_type": "markdown",
   "id": "c1bf0537-bacc-4575-b0dd-f2c5becdf76f",
   "metadata": {},
   "source": [
    "### Here it is clearly visible that our data needs to be cleaned and structured because many values symbolize the same thing, but the way they were written is different. ###"
   ]
  },
  {
   "cell_type": "code",
   "execution_count": 91,
   "id": "95b30790-7ca8-4378-b9ec-7fd9e5c96351",
   "metadata": {},
   "outputs": [],
   "source": [
    "# data transformation: change all letters in the column to lowercase and remove leading and trailing spaces\n",
    "df['Target Type'] = df['Target Type'].apply(lambda x: x.strip().lower() if isinstance(x, str) else x)"
   ]
  },
  {
   "cell_type": "code",
   "execution_count": 92,
   "id": "cdbc0047-3640-4654-8d54-209330c4549e",
   "metadata": {},
   "outputs": [
    {
     "data": {
      "text/plain": [
       "Target Type\n",
       "Web Browser                                  20\n",
       "Web Applications                             19\n",
       "Web applications                             16\n",
       "Web App                                      13\n",
       "Web apps                                     12\n",
       "                                             ..\n",
       "WebView or DOM Vision Agent                   1\n",
       "Webview in Mobile App                         1\n",
       "WebView or Preview Tools in Mobile Agents     1\n",
       "Web-enabled LLM Agents                        1\n",
       "Web-Based Satellite Interface                 1\n",
       "Name: count, Length: 416, dtype: int64"
      ]
     },
     "execution_count": 92,
     "metadata": {},
     "output_type": "execute_result"
    }
   ],
   "source": [
    "web_target_type['Target Type'].value_counts()"
   ]
  },
  {
   "cell_type": "markdown",
   "id": "659072fe-98fb-449b-9999-dd0044cfa01b",
   "metadata": {},
   "source": [
    "We can see that changing the case of letters positively impacted the reliability of the data, but this wasn't the only issue to be resolved. We can't guarantee that the data doesn't contain other factors that distort the data, such as typos, special characters, or other errors."
   ]
  },
  {
   "cell_type": "code",
   "execution_count": 94,
   "id": "482725d0-35f9-446e-8a54-56f37eb36a1a",
   "metadata": {},
   "outputs": [
    {
     "data": {
      "text/plain": [
       "Target Type\n",
       "web applications                             35\n",
       "web browser                                  20\n",
       "web apps, apis                               16\n",
       "web app                                      13\n",
       "web apps                                     13\n",
       "                                             ..\n",
       "webview or preview tools in mobile agents     1\n",
       "web-enabled llm agents                        1\n",
       "web + network-facing ai agents                1\n",
       "web servers / public websites                 1\n",
       "web-based satellite interface                 1\n",
       "Name: count, Length: 411, dtype: int64"
      ]
     },
     "execution_count": 94,
     "metadata": {},
     "output_type": "execute_result"
    }
   ],
   "source": [
    "df['Target Type'][df['Target Type'].str.startswith('web', na=False)].value_counts()"
   ]
  },
  {
   "cell_type": "markdown",
   "id": "30ec5a71-dc2c-4d25-8cbc-ff893ca4c358",
   "metadata": {},
   "source": [
    "'web app' != 'web apps' we can also expect: 'web apps, apis' != 'web apis, apps' ect."
   ]
  },
  {
   "cell_type": "code",
   "execution_count": 96,
   "id": "0cc1bdec-6aad-4fb5-8fbd-65adea6628fe",
   "metadata": {},
   "outputs": [
    {
     "data": {
      "text/plain": [
       "583"
      ]
     },
     "execution_count": 96,
     "metadata": {},
     "output_type": "execute_result"
    }
   ],
   "source": [
    "# at this point I wanted to check how many cases we have in this set that are directly related to the network\n",
    "web_target_type['Target Type'].value_counts().sum()"
   ]
  },
  {
   "cell_type": "markdown",
   "id": "d631072f-a882-4839-803f-c371ab24f5c2",
   "metadata": {},
   "source": [
    "## Impact ## "
   ]
  },
  {
   "cell_type": "code",
   "execution_count": 99,
   "id": "839a2e1f-f3c3-49f4-ade0-ed765e610c4f",
   "metadata": {},
   "outputs": [
    {
     "data": {
      "text/plain": [
       "Impact\n",
       "Credential theft                             37\n",
       "Credential Theft                             30\n",
       "Remote Code Execution                        26\n",
       "Remote code execution                        20\n",
       "T0856                                        18\n",
       "Account compromise                           14\n",
       "Full system compromise                       14\n",
       "T0884                                        12\n",
       "Code Execution                               12\n",
       "Unauthorized access                          11\n",
       "Unauthorized physical access                 10\n",
       "Credential theft, lateral movement            9\n",
       "Denial of Service                             9\n",
       "Privilege Escalation                          8\n",
       "Persistent Access                             8\n",
       "Arbitrary Code Execution                      8\n",
       "Arbitrary code execution                      7\n",
       "Covert data exfiltration                      7\n",
       "Credential harvesting                         7\n",
       "Information Disclosure                        7\n",
       "Credential theft, session hijacking           7\n",
       "Unauthorized access, privilege escalation     6\n",
       "Data exfiltration                             6\n",
       "Credential theft, session hijack              6\n",
       "Unauthorized Access                           6\n",
       "Name: count, dtype: int64"
      ]
     },
     "execution_count": 99,
     "metadata": {},
     "output_type": "execute_result"
    }
   ],
   "source": [
    "df['Impact'].value_counts().head(25)"
   ]
  },
  {
   "cell_type": "markdown",
   "id": "73b96001-bd1f-417e-82d3-b32e3716caa4",
   "metadata": {},
   "source": [
    "### Same case as above ###"
   ]
  },
  {
   "cell_type": "markdown",
   "id": "e8719219-1d21-4084-a272-8c17e7889a63",
   "metadata": {},
   "source": [
    "examples: 'Credential theft' != 'Credential Theft' and 'Covert data exfiltration' != 'Data exfiltration'"
   ]
  },
  {
   "cell_type": "code",
   "execution_count": 102,
   "id": "df8144ec-48ff-4166-ac94-2234e7168bd0",
   "metadata": {},
   "outputs": [
    {
     "data": {
      "text/html": [
       "<div>\n",
       "<style scoped>\n",
       "    .dataframe tbody tr th:only-of-type {\n",
       "        vertical-align: middle;\n",
       "    }\n",
       "\n",
       "    .dataframe tbody tr th {\n",
       "        vertical-align: top;\n",
       "    }\n",
       "\n",
       "    .dataframe thead th {\n",
       "        text-align: right;\n",
       "    }\n",
       "</style>\n",
       "<table border=\"1\" class=\"dataframe\">\n",
       "  <thead>\n",
       "    <tr style=\"text-align: right;\">\n",
       "      <th></th>\n",
       "      <th>ID</th>\n",
       "      <th>Title</th>\n",
       "      <th>Category</th>\n",
       "      <th>Attack Type</th>\n",
       "      <th>Scenario Description</th>\n",
       "      <th>Tools Used</th>\n",
       "      <th>Attack Steps</th>\n",
       "      <th>Target Type</th>\n",
       "      <th>Vulnerability</th>\n",
       "      <th>MITRE Technique</th>\n",
       "      <th>Impact</th>\n",
       "      <th>Detection Method</th>\n",
       "      <th>Solution</th>\n",
       "      <th>Tags</th>\n",
       "      <th>Source</th>\n",
       "      <th>Unnamed: 15</th>\n",
       "      <th>Tools List</th>\n",
       "    </tr>\n",
       "  </thead>\n",
       "  <tbody>\n",
       "    <tr>\n",
       "      <th>0</th>\n",
       "      <td>1</td>\n",
       "      <td>Authentication Bypass via SQL Injection</td>\n",
       "      <td>Mobile Security</td>\n",
       "      <td>SQL Injection (SQLi)</td>\n",
       "      <td>A login form fails to validate or sanitize inp...</td>\n",
       "      <td>Browser, Burp Suite, SQLMap</td>\n",
       "      <td>1. Reconnaissance: Find a login form on the we...</td>\n",
       "      <td>web login portals (e.g., banking, admin dashbo...</td>\n",
       "      <td>Unsanitized input fields in SQL queries</td>\n",
       "      <td>T1078 (Valid Accounts), T1190 (Exploit Public-...</td>\n",
       "      <td>Full account takeover, data theft, privilege e...</td>\n",
       "      <td>Web server logs, anomaly detection (e.g., logi...</td>\n",
       "      <td>Use prepared statements, Sanitize inputs, Limi...</td>\n",
       "      <td>SQLi, Authentication Bypass, Web Security, OWA...</td>\n",
       "      <td>OWASP, MITRE ATT&amp;CK, DVWA</td>\n",
       "      <td>NaN</td>\n",
       "      <td>[Browser, Burp Suite, SQLMap]</td>\n",
       "    </tr>\n",
       "  </tbody>\n",
       "</table>\n",
       "</div>"
      ],
      "text/plain": [
       "   ID                                    Title          Category  \\\n",
       "0   1  Authentication Bypass via SQL Injection   Mobile Security   \n",
       "\n",
       "            Attack Type                               Scenario Description  \\\n",
       "0  SQL Injection (SQLi)  A login form fails to validate or sanitize inp...   \n",
       "\n",
       "                    Tools Used  \\\n",
       "0  Browser, Burp Suite, SQLMap   \n",
       "\n",
       "                                        Attack Steps  \\\n",
       "0  1. Reconnaissance: Find a login form on the we...   \n",
       "\n",
       "                                         Target Type  \\\n",
       "0  web login portals (e.g., banking, admin dashbo...   \n",
       "\n",
       "                             Vulnerability  \\\n",
       "0  Unsanitized input fields in SQL queries   \n",
       "\n",
       "                                     MITRE Technique  \\\n",
       "0  T1078 (Valid Accounts), T1190 (Exploit Public-...   \n",
       "\n",
       "                                              Impact  \\\n",
       "0  Full account takeover, data theft, privilege e...   \n",
       "\n",
       "                                    Detection Method  \\\n",
       "0  Web server logs, anomaly detection (e.g., logi...   \n",
       "\n",
       "                                            Solution  \\\n",
       "0  Use prepared statements, Sanitize inputs, Limi...   \n",
       "\n",
       "                                                Tags  \\\n",
       "0  SQLi, Authentication Bypass, Web Security, OWA...   \n",
       "\n",
       "                      Source Unnamed: 15                     Tools List  \n",
       "0  OWASP, MITRE ATT&CK, DVWA         NaN  [Browser, Burp Suite, SQLMap]  "
      ]
     },
     "execution_count": 102,
     "metadata": {},
     "output_type": "execute_result"
    }
   ],
   "source": [
    "df.head(1)"
   ]
  },
  {
   "cell_type": "markdown",
   "id": "a7c3f781-27dd-4180-beb1-75f7f7f877cb",
   "metadata": {},
   "source": [
    "After seeing that typos were appearing not only in one column (which could have been guessed), I decided to convert the entire data set to lowercase letters"
   ]
  },
  {
   "cell_type": "code",
   "execution_count": 104,
   "id": "32368e3d-12e2-4cfc-b6cf-e02df7534d26",
   "metadata": {
    "scrolled": true
   },
   "outputs": [],
   "source": [
    "df = df.map(lambda x: x.strip().lower() if isinstance(x, str) else x)"
   ]
  },
  {
   "cell_type": "code",
   "execution_count": 105,
   "id": "707e549a-2b5a-4c35-9f1b-7b15cdadfc57",
   "metadata": {},
   "outputs": [
    {
     "data": {
      "text/html": [
       "<div>\n",
       "<style scoped>\n",
       "    .dataframe tbody tr th:only-of-type {\n",
       "        vertical-align: middle;\n",
       "    }\n",
       "\n",
       "    .dataframe tbody tr th {\n",
       "        vertical-align: top;\n",
       "    }\n",
       "\n",
       "    .dataframe thead th {\n",
       "        text-align: right;\n",
       "    }\n",
       "</style>\n",
       "<table border=\"1\" class=\"dataframe\">\n",
       "  <thead>\n",
       "    <tr style=\"text-align: right;\">\n",
       "      <th></th>\n",
       "      <th>ID</th>\n",
       "      <th>Title</th>\n",
       "      <th>Category</th>\n",
       "      <th>Attack Type</th>\n",
       "      <th>Scenario Description</th>\n",
       "      <th>Tools Used</th>\n",
       "      <th>Attack Steps</th>\n",
       "      <th>Target Type</th>\n",
       "      <th>Vulnerability</th>\n",
       "      <th>MITRE Technique</th>\n",
       "      <th>Impact</th>\n",
       "      <th>Detection Method</th>\n",
       "      <th>Solution</th>\n",
       "      <th>Tags</th>\n",
       "      <th>Source</th>\n",
       "      <th>Unnamed: 15</th>\n",
       "      <th>Tools List</th>\n",
       "    </tr>\n",
       "  </thead>\n",
       "  <tbody>\n",
       "    <tr>\n",
       "      <th>0</th>\n",
       "      <td>1</td>\n",
       "      <td>authentication bypass via sql injection</td>\n",
       "      <td>mobile security</td>\n",
       "      <td>sql injection (sqli)</td>\n",
       "      <td>a login form fails to validate or sanitize inp...</td>\n",
       "      <td>browser, burp suite, sqlmap</td>\n",
       "      <td>1. reconnaissance: find a login form on the we...</td>\n",
       "      <td>web login portals (e.g., banking, admin dashbo...</td>\n",
       "      <td>unsanitized input fields in sql queries</td>\n",
       "      <td>t1078 (valid accounts), t1190 (exploit public-...</td>\n",
       "      <td>full account takeover, data theft, privilege e...</td>\n",
       "      <td>web server logs, anomaly detection (e.g., logi...</td>\n",
       "      <td>use prepared statements, sanitize inputs, limi...</td>\n",
       "      <td>sqli, authentication bypass, web security, owa...</td>\n",
       "      <td>owasp, mitre att&amp;ck, dvwa</td>\n",
       "      <td>NaN</td>\n",
       "      <td>[Browser, Burp Suite, SQLMap]</td>\n",
       "    </tr>\n",
       "  </tbody>\n",
       "</table>\n",
       "</div>"
      ],
      "text/plain": [
       "   ID                                    Title         Category  \\\n",
       "0   1  authentication bypass via sql injection  mobile security   \n",
       "\n",
       "            Attack Type                               Scenario Description  \\\n",
       "0  sql injection (sqli)  a login form fails to validate or sanitize inp...   \n",
       "\n",
       "                    Tools Used  \\\n",
       "0  browser, burp suite, sqlmap   \n",
       "\n",
       "                                        Attack Steps  \\\n",
       "0  1. reconnaissance: find a login form on the we...   \n",
       "\n",
       "                                         Target Type  \\\n",
       "0  web login portals (e.g., banking, admin dashbo...   \n",
       "\n",
       "                             Vulnerability  \\\n",
       "0  unsanitized input fields in sql queries   \n",
       "\n",
       "                                     MITRE Technique  \\\n",
       "0  t1078 (valid accounts), t1190 (exploit public-...   \n",
       "\n",
       "                                              Impact  \\\n",
       "0  full account takeover, data theft, privilege e...   \n",
       "\n",
       "                                    Detection Method  \\\n",
       "0  web server logs, anomaly detection (e.g., logi...   \n",
       "\n",
       "                                            Solution  \\\n",
       "0  use prepared statements, sanitize inputs, limi...   \n",
       "\n",
       "                                                Tags  \\\n",
       "0  sqli, authentication bypass, web security, owa...   \n",
       "\n",
       "                      Source Unnamed: 15                     Tools List  \n",
       "0  owasp, mitre att&ck, dvwa         NaN  [Browser, Burp Suite, SQLMap]  "
      ]
     },
     "execution_count": 105,
     "metadata": {},
     "output_type": "execute_result"
    }
   ],
   "source": [
    "df.head(1)"
   ]
  },
  {
   "cell_type": "code",
   "execution_count": 106,
   "id": "728d530e-f3a7-4092-9e12-5f08cdd7b1c5",
   "metadata": {},
   "outputs": [
    {
     "data": {
      "text/plain": [
       "Impact\n",
       "credential theft                             67\n",
       "remote code execution                        46\n",
       "t0856                                        18\n",
       "unauthorized access                          17\n",
       "full system compromise                       16\n",
       "account compromise                           15\n",
       "arbitrary code execution                     15\n",
       "code execution                               12\n",
       "t0884                                        12\n",
       "privilege escalation                         11\n",
       "persistent access                            11\n",
       "data exfiltration                            11\n",
       "unauthorized physical access                 11\n",
       "data theft                                   10\n",
       "credential harvesting                        10\n",
       "denial of service                             9\n",
       "memory corruption                             9\n",
       "credential theft, lateral movement            9\n",
       "information disclosure                        8\n",
       "covert data exfiltration                      7\n",
       "credential theft, session hijacking           7\n",
       "credential theft, account compromise          6\n",
       "persistent remote access                      6\n",
       "remote shell access                           6\n",
       "unauthorized access, privilege escalation     6\n",
       "Name: count, dtype: int64"
      ]
     },
     "execution_count": 106,
     "metadata": {},
     "output_type": "execute_result"
    }
   ],
   "source": [
    "df['Impact'].value_counts().head(25)"
   ]
  },
  {
   "cell_type": "markdown",
   "id": "0b3cd082-9cb2-430a-ba35-5718578f4274",
   "metadata": {},
   "source": [
    "## Detection Method ##"
   ]
  },
  {
   "cell_type": "code",
   "execution_count": 108,
   "id": "11dee3ee-600c-43bb-ac9e-ad157983af36",
   "metadata": {},
   "outputs": [
    {
     "data": {
      "text/plain": [
       "0        web server logs, anomaly detection (e.g., logi...\n",
       "1        web application firewalls (waf)log analysisinp...\n",
       "2        review and monitor error logsenable generic er...\n",
       "3        monitor for slow and repetitive requestsanalyz...\n",
       "4        log monitoring for delayed query failurestrack...\n",
       "                               ...                        \n",
       "14128                     ml detection accuracy benchmarks\n",
       "14129                        role-based workshop reporting\n",
       "14130                        audit logs and anomaly replay\n",
       "14131                               static binary analysis\n",
       "14132                           audit + survey correlation\n",
       "Name: Detection Method, Length: 14133, dtype: object"
      ]
     },
     "execution_count": 108,
     "metadata": {},
     "output_type": "execute_result"
    }
   ],
   "source": [
    "df['Detection Method']"
   ]
  },
  {
   "cell_type": "code",
   "execution_count": 109,
   "id": "6dc22de0-85a1-4e1e-90c6-e0241c647bf8",
   "metadata": {},
   "outputs": [
    {
     "data": {
      "text/plain": [
       "Detection Method\n",
       "registry + prefetch + memory                             9\n",
       "github secret scanning                                   7\n",
       "fuzzer logs, crash reports                               6\n",
       "timing anomaly detection, redundant clock comparisons    5\n",
       "network anomaly detection                                4\n",
       "file integrity monitoring                                3\n",
       "hash verification                                        3\n",
       "tls-based beacon monitoring and heuristics               3\n",
       "inspect http/2 headers and flow anomalies                3\n",
       "detect base64 payloads in http post requests             3\n",
       "Name: count, dtype: int64"
      ]
     },
     "execution_count": 109,
     "metadata": {},
     "output_type": "execute_result"
    }
   ],
   "source": [
    "df['Detection Method'].value_counts().head(10)"
   ]
  },
  {
   "cell_type": "code",
   "execution_count": 110,
   "id": "a2697854-1b86-4b6f-994d-e706a865b842",
   "metadata": {},
   "outputs": [
    {
     "data": {
      "text/plain": [
       "13809"
      ]
     },
     "execution_count": 110,
     "metadata": {},
     "output_type": "execute_result"
    }
   ],
   "source": [
    "len(df['Detection Method'].unique())"
   ]
  },
  {
   "cell_type": "code",
   "execution_count": 111,
   "id": "f39fd150-ad0b-469b-aa5e-ef1b948f3f6b",
   "metadata": {},
   "outputs": [
    {
     "data": {
      "text/plain": [
       "'#sqlinjection #websecurity #unionattack #owasptop10 #injectionflaws'"
      ]
     },
     "execution_count": 111,
     "metadata": {},
     "output_type": "execute_result"
    }
   ],
   "source": [
    "df['Tags'][1]"
   ]
  },
  {
   "cell_type": "code",
   "execution_count": 112,
   "id": "aff15cfd-eb83-4efb-b7e5-166e900d711a",
   "metadata": {},
   "outputs": [
    {
     "data": {
      "text/plain": [
       "Tags\n",
       "gps spoofing, mobile fraud                   4\n",
       "replay, orbit, satellite spoofing            3\n",
       "dns, tunneling, iodine                       3\n",
       "empire, http, powershell                     3\n",
       "sliver, http2, protobuf                      3\n",
       "metasploit, meterpreter, reverse shell       3\n",
       "optics, drone, interception, light attack    3\n",
       "mitm, satellite command, leo                 3\n",
       "satellite, replay, injection, spoof          3\n",
       "satellite, rf, interception, sniffing        3\n",
       "Name: count, dtype: int64"
      ]
     },
     "execution_count": 112,
     "metadata": {},
     "output_type": "execute_result"
    }
   ],
   "source": [
    "df['Tags'].value_counts().head(10)"
   ]
  },
  {
   "cell_type": "markdown",
   "id": "9267841f-9a73-4358-b1c1-2154515f82ee",
   "metadata": {},
   "source": [
    "## Solution"
   ]
  },
  {
   "cell_type": "code",
   "execution_count": 114,
   "id": "0c673ef8-44dc-43f5-a12e-e1fe7f4c4a98",
   "metadata": {},
   "outputs": [
    {
     "data": {
      "text/plain": [
       "'use prepared statements, sanitize inputs, limit login attempts, use captcha, enable mfa'"
      ]
     },
     "execution_count": 114,
     "metadata": {},
     "output_type": "execute_result"
    }
   ],
   "source": [
    "df['Solution'][0]"
   ]
  },
  {
   "cell_type": "code",
   "execution_count": 115,
   "id": "cf6a8bbc-a0e5-48cd-8b91-c77abfae441e",
   "metadata": {},
   "outputs": [
    {
     "data": {
      "text/plain": [
       "'use parameterized queries (prepared statements)sanitize all user inputsdisable detailed sql error messagesapply least privilege to database accountsregularly update and patch software'"
      ]
     },
     "execution_count": 115,
     "metadata": {},
     "output_type": "execute_result"
    }
   ],
   "source": [
    "df['Solution'][1]"
   ]
  },
  {
   "cell_type": "code",
   "execution_count": 116,
   "id": "27d2fb35-c064-4ed6-aa5c-e58eff0d2e28",
   "metadata": {},
   "outputs": [
    {
     "data": {
      "text/plain": [
       "Solution\n",
       "disable debug ports in production                                              4\n",
       "quarantine + block                                                             4\n",
       "end-to-end encrypted packet flow, mac verification                             3\n",
       "block + alert                                                                  3\n",
       "use tls interception and advanced dpi                                          3\n",
       "                                                                              ..\n",
       "use randomized keys and initialization vectors; avoid repeating-key schemes    1\n",
       "never use ecb; switch to aes-gcm or cbc with iv & mac                          1\n",
       "use randomized, per-message ivs; never allow user-supplied ivs                 1\n",
       "avoid des; upgrade to aes or 3des minimum; never allow weak key reuse          1\n",
       "global cyber policy alignment                                                  1\n",
       "Name: count, Length: 13851, dtype: int64"
      ]
     },
     "execution_count": 116,
     "metadata": {},
     "output_type": "execute_result"
    }
   ],
   "source": [
    "df['Solution'].value_counts()"
   ]
  },
  {
   "cell_type": "markdown",
   "id": "975967b1-bdc7-4b2c-bc6e-dfac23901caa",
   "metadata": {},
   "source": [
    "## MITRE Technique"
   ]
  },
  {
   "cell_type": "markdown",
   "id": "c9463307-9f72-4f10-81b7-a00edac71c61",
   "metadata": {},
   "source": [
    "This column could be really interesting because it shows the techniques used by cybercriminals during attacks"
   ]
  },
  {
   "cell_type": "code",
   "execution_count": 119,
   "id": "087084b4-8f87-4866-822e-cd2bbd5e8e6b",
   "metadata": {},
   "outputs": [
    {
     "data": {
      "text/plain": [
       "'t1078 (valid accounts), t1190 (exploit public-facing app)'"
      ]
     },
     "execution_count": 119,
     "metadata": {},
     "output_type": "execute_result"
    }
   ],
   "source": [
    "df['MITRE Technique'][0]"
   ]
  },
  {
   "cell_type": "code",
   "execution_count": 120,
   "id": "7925201f-8539-4e4e-8bed-86e4f0b5d187",
   "metadata": {},
   "outputs": [
    {
     "data": {
      "text/plain": [
       "MITRE Technique\n",
       "t1203                                         343\n",
       "t1552.001                                     224\n",
       "t1195.002                                     141\n",
       "t1499                                         120\n",
       "t1189                                         113\n",
       "                                             ... \n",
       "t1080 – memory scope violation                  1\n",
       "t1070.004 – residual cache or session data      1\n",
       "t1643 – improper memory or context sharing      1\n",
       "t1203 – exploitation via 3rd party plugins      1\n",
       "t1200, t1069                                    1\n",
       "Name: count, Length: 5766, dtype: int64"
      ]
     },
     "execution_count": 120,
     "metadata": {},
     "output_type": "execute_result"
    }
   ],
   "source": [
    "df['MITRE Technique'].value_counts()"
   ]
  },
  {
   "cell_type": "code",
   "execution_count": 121,
   "id": "d84ab002-119f-40ff-9d3b-254ce9b22077",
   "metadata": {},
   "outputs": [
    {
     "name": "stderr",
     "output_type": "stream",
     "text": [
      "/var/folders/th/kwb7gr5960bcybggr8f7glh80000gn/T/ipykernel_14719/117996423.py:29: FutureWarning: \n",
      "\n",
      "Passing `palette` without assigning `hue` is deprecated and will be removed in v0.14.0. Assign the `x` variable to `hue` and set `legend=False` for the same effect.\n",
      "\n",
      "  sns.barplot(x=column_labels, y=column_counts.values, palette='crest')\n"
     ]
    },
    {
     "data": {
      "image/png": "[encoded data removed]",
      "text/plain": [
       "<Figure size 1200x600 with 1 Axes>"
      ]
     },
     "metadata": {},
     "output_type": "display_data"
    }
   ],
   "source": [
    "create_top_n_plot(data_frame=df, column_name='MITRE Technique', n=10)"
   ]
  },
  {
   "cell_type": "code",
   "execution_count": 122,
   "id": "41887a8f-a33e-490e-8026-d7d6bd43912d",
   "metadata": {
    "jupyter": {
     "source_hidden": true
    }
   },
   "outputs": [],
   "source": [
    "data = [\n",
    "    {\"Code\": \"T1203\", \"Name\": \"Exploitation for Client Execution\", \"Description\": \"Exploiting vulnerabilities in client-side applications (e.g., web browsers, office suites) to execute malicious code.\"},\n",
    "    {\"Code\": \"T1552.001\", \"Name\": \"Credentials in Files\", \"Description\": \"Searching for and stealing credentials (passwords, API keys) stored in files on disk.\"},\n",
    "    {\"Code\": \"T1195.002\", \"Name\": \"Compromise Software Supply Chain: Compromise Software Dependencies and Development Tools\", \"Description\": \"Attacking the software supply chain by infecting libraries, dependencies, or tools used in software development.\"},\n",
    "    {\"Code\": \"T1499\", \"Name\": \"Endpoint Denial of Service\", \"Description\": \"Overloading or causing a failure of an endpoint (e.g., host, server) by excessive resource usage or other DoS methods.\"},\n",
    "    {\"Code\": \"T1189\", \"Name\": \"Drive-by Compromise\", \"Description\": \"Compromising a victim by making them visit a malicious or compromised website, which automatically triggers an exploit or malware.\"}\n",
    "]\n",
    "\n",
    "mitre = pd.DataFrame(data)"
   ]
  },
  {
   "cell_type": "markdown",
   "id": "81c67928-3f68-4526-878d-e051786c6ae6",
   "metadata": {},
   "source": [
    "### Here I have prepared a short description of the most popular attack techniques included in the chart above along with the codes"
   ]
  },
  {
   "cell_type": "code",
   "execution_count": 124,
   "id": "28ed1177-8434-4595-abdb-30413a147926",
   "metadata": {},
   "outputs": [
    {
     "data": {
      "text/html": [
       "<div>\n",
       "<style scoped>\n",
       "    .dataframe tbody tr th:only-of-type {\n",
       "        vertical-align: middle;\n",
       "    }\n",
       "\n",
       "    .dataframe tbody tr th {\n",
       "        vertical-align: top;\n",
       "    }\n",
       "\n",
       "    .dataframe thead th {\n",
       "        text-align: right;\n",
       "    }\n",
       "</style>\n",
       "<table border=\"1\" class=\"dataframe\">\n",
       "  <thead>\n",
       "    <tr style=\"text-align: right;\">\n",
       "      <th></th>\n",
       "      <th>Code</th>\n",
       "      <th>Name</th>\n",
       "      <th>Description</th>\n",
       "    </tr>\n",
       "  </thead>\n",
       "  <tbody>\n",
       "    <tr>\n",
       "      <th>0</th>\n",
       "      <td>T1203</td>\n",
       "      <td>Exploitation for Client Execution</td>\n",
       "      <td>Exploiting vulnerabilities in client-side appl...</td>\n",
       "    </tr>\n",
       "    <tr>\n",
       "      <th>1</th>\n",
       "      <td>T1552.001</td>\n",
       "      <td>Credentials in Files</td>\n",
       "      <td>Searching for and stealing credentials (passwo...</td>\n",
       "    </tr>\n",
       "    <tr>\n",
       "      <th>2</th>\n",
       "      <td>T1195.002</td>\n",
       "      <td>Compromise Software Supply Chain: Compromise S...</td>\n",
       "      <td>Attacking the software supply chain by infecti...</td>\n",
       "    </tr>\n",
       "    <tr>\n",
       "      <th>3</th>\n",
       "      <td>T1499</td>\n",
       "      <td>Endpoint Denial of Service</td>\n",
       "      <td>Overloading or causing a failure of an endpoin...</td>\n",
       "    </tr>\n",
       "    <tr>\n",
       "      <th>4</th>\n",
       "      <td>T1189</td>\n",
       "      <td>Drive-by Compromise</td>\n",
       "      <td>Compromising a victim by making them visit a m...</td>\n",
       "    </tr>\n",
       "  </tbody>\n",
       "</table>\n",
       "</div>"
      ],
      "text/plain": [
       "        Code                                               Name  \\\n",
       "0      T1203                  Exploitation for Client Execution   \n",
       "1  T1552.001                               Credentials in Files   \n",
       "2  T1195.002  Compromise Software Supply Chain: Compromise S...   \n",
       "3      T1499                         Endpoint Denial of Service   \n",
       "4      T1189                                Drive-by Compromise   \n",
       "\n",
       "                                         Description  \n",
       "0  Exploiting vulnerabilities in client-side appl...  \n",
       "1  Searching for and stealing credentials (passwo...  \n",
       "2  Attacking the software supply chain by infecti...  \n",
       "3  Overloading or causing a failure of an endpoin...  \n",
       "4  Compromising a victim by making them visit a m...  "
      ]
     },
     "execution_count": 124,
     "metadata": {},
     "output_type": "execute_result"
    }
   ],
   "source": [
    "mitre.head()"
   ]
  },
  {
   "cell_type": "code",
   "execution_count": 125,
   "id": "ef2da8f9-90aa-4881-bbf1-3e05c775b144",
   "metadata": {},
   "outputs": [
    {
     "data": {
      "text/plain": [
       "'Exploiting vulnerabilities in client-side applications (e.g., web browsers, office suites) to execute malicious code.'"
      ]
     },
     "execution_count": 125,
     "metadata": {},
     "output_type": "execute_result"
    }
   ],
   "source": [
    "mitre.iloc[0]['Description']"
   ]
  },
  {
   "cell_type": "markdown",
   "id": "66bc3113-33c7-49fc-9d8a-cd03e5f356ba",
   "metadata": {},
   "source": [
    "### After displaying the most frequently occurring cells, I decided to display one of the records and verify whether there were other versions of it in the data set"
   ]
  },
  {
   "cell_type": "code",
   "execution_count": 127,
   "id": "ee31531d-cc15-4582-bebe-6566690c339f",
   "metadata": {},
   "outputs": [
    {
     "data": {
      "text/plain": [
       "MITRE Technique\n",
       "t1203                                            343\n",
       "t1203 – exploitation for privilege escalation     73\n",
       "t1203 – exploitation for client execution         38\n",
       "t1203 (exploitation for client execution)         38\n",
       "t1203: exploitation for client execution          13\n",
       "                                                ... \n",
       "t1203 – archive injection                          1\n",
       "t1203 – document-based command injection           1\n",
       "t1203 – context injection via file metadata        1\n",
       "t1203 – contextual injection via url content       1\n",
       "t1203 (sensor data manipulation)                   1\n",
       "Name: count, Length: 150, dtype: int64"
      ]
     },
     "execution_count": 127,
     "metadata": {},
     "output_type": "execute_result"
    }
   ],
   "source": [
    "df['MITRE Technique'][df['MITRE Technique'].str.startswith('t1203',na=False)].value_counts()"
   ]
  },
  {
   "cell_type": "markdown",
   "id": "5d3bd162-01f0-4829-a210-9bc6d75319d2",
   "metadata": {},
   "source": [
    "### At this point, I decided to create an additional analysis based on the first five-part \"parent MITRE ID\" codes and, based on them, additionally evaluate the most popular categories of techniques"
   ]
  },
  {
   "cell_type": "code",
   "execution_count": 129,
   "id": "81e2dd18-2ea0-45f2-96fe-1df1fbc4cc77",
   "metadata": {},
   "outputs": [],
   "source": [
    "df['Main MITRE Techniques'] = df['MITRE Technique'].apply(lambda x: x[:5] if isinstance(x,str) else x)"
   ]
  },
  {
   "cell_type": "code",
   "execution_count": 130,
   "id": "5e482381-27fe-4fd5-a5c6-7dc9028833aa",
   "metadata": {},
   "outputs": [],
   "source": [
    "parent_technique_id = df['Main MITRE Techniques'].value_counts().head(10)"
   ]
  },
  {
   "cell_type": "code",
   "execution_count": 131,
   "id": "f6162c4b-45d4-4fab-914a-ecae6c75a2f1",
   "metadata": {},
   "outputs": [
    {
     "data": {
      "text/plain": [
       "Main MITRE Techniques\n",
       "t1557    723\n",
       "t1203    697\n",
       "t1059    685\n",
       "t1606    661\n",
       "t1552    516\n",
       "t1499    463\n",
       "t1204    364\n",
       "t1566    349\n",
       "t1609    274\n",
       "t1195    252\n",
       "Name: count, dtype: int64"
      ]
     },
     "execution_count": 131,
     "metadata": {},
     "output_type": "execute_result"
    }
   ],
   "source": [
    "parent_technique_id"
   ]
  },
  {
   "cell_type": "code",
   "execution_count": 132,
   "id": "d99c8e77-93a2-4cb1-9fb1-4c9be5c70c37",
   "metadata": {},
   "outputs": [
    {
     "name": "stderr",
     "output_type": "stream",
     "text": [
      "/var/folders/th/kwb7gr5960bcybggr8f7glh80000gn/T/ipykernel_14719/2487187596.py:2: FutureWarning: \n",
      "\n",
      "Passing `palette` without assigning `hue` is deprecated and will be removed in v0.14.0. Assign the `x` variable to `hue` and set `legend=False` for the same effect.\n",
      "\n",
      "  sns.barplot(parent_technique_id, palette='crest_r')\n"
     ]
    },
    {
     "data": {
      "text/plain": [
       "Text(0.5, 1.0, 'Attack Techniques (Grouped by Parent MITRE ID)')"
      ]
     },
     "execution_count": 132,
     "metadata": {},
     "output_type": "execute_result"
    },
    {
     "data": {
      "image/png": "[encoded data removed]",
      "text/plain": [
       "<Figure size 800x400 with 1 Axes>"
      ]
     },
     "metadata": {},
     "output_type": "display_data"
    }
   ],
   "source": [
    "plt.figure(figsize=(8,4))\n",
    "sns.barplot(parent_technique_id, palette='crest_r')\n",
    "plt.title('Attack Techniques (Grouped by Parent MITRE ID)')"
   ]
  },
  {
   "cell_type": "markdown",
   "id": "0a82d7cc-1a18-4677-80b0-aac5eaf5250d",
   "metadata": {},
   "source": [
    "### As in the previous case, here I also include descriptions of the most popular techniques included in the chart"
   ]
  },
  {
   "cell_type": "code",
   "execution_count": 134,
   "id": "90472e10-26cd-4cd4-bb0c-f7ef66f63019",
   "metadata": {
    "jupyter": {
     "source_hidden": true
    }
   },
   "outputs": [],
   "source": [
    "parent_mitre_data = [\n",
    "    {\"Code\": \"T1557\", \"Description\": \"Man-in-the-Middle – intercepting and possibly altering communications between two parties without their knowledge.\"},\n",
    "    {\"Code\": \"T1203\", \"Description\": \"Exploitation for Client Execution – exploiting vulnerabilities in client-side applications to execute malicious code.\"},\n",
    "    {\"Code\": \"T1059\", \"Description\": \"Command and Scripting Interpreter – executing commands or scripts via command-line or scripting environments.\"},\n",
    "    {\"Code\": \"T1606\", \"Description\": \"Forge Web Credentials – creating or manipulating web authentication tokens or cookies to gain unauthorized access.\"},\n",
    "    {\"Code\": \"T1552\", \"Description\": \"Unsecured Credentials – obtaining credentials from unsecured storage locations such as files, registry, or configuration files.\"},\n",
    "    {\"Code\": \"T1499\", \"Description\": \"Endpoint Denial of Service – disrupting the availability of an endpoint system by consuming its resources or exploiting vulnerabilities.\"},\n",
    "    {\"Code\": \"T1204\", \"Description\": \"User Execution – relying on a user to run malicious content, such as clicking a malicious link or opening a file.\"},\n",
    "    {\"Code\": \"T1566\", \"Description\": \"Phishing – tricking users into revealing information or executing malicious actions through deceptive communication.\"},\n",
    "    {\"Code\": \"T1609\", \"Description\": \"Container Administration Command – executing administrative commands inside a container environment to control it.\"},\n",
    "    {\"Code\": \"T1195\", \"Description\": \"Supply Chain Compromise – inserting malicious components into hardware, software, or services before they reach the victim.\"}\n",
    "]\n",
    "\n",
    "parent_mitre_df = pd.DataFrame(parent_mitre_data)"
   ]
  },
  {
   "cell_type": "code",
   "execution_count": 135,
   "id": "d351b867-62cb-4eaa-984c-b44b2a8f6813",
   "metadata": {},
   "outputs": [
    {
     "data": {
      "text/html": [
       "<div>\n",
       "<style scoped>\n",
       "    .dataframe tbody tr th:only-of-type {\n",
       "        vertical-align: middle;\n",
       "    }\n",
       "\n",
       "    .dataframe tbody tr th {\n",
       "        vertical-align: top;\n",
       "    }\n",
       "\n",
       "    .dataframe thead th {\n",
       "        text-align: right;\n",
       "    }\n",
       "</style>\n",
       "<table border=\"1\" class=\"dataframe\">\n",
       "  <thead>\n",
       "    <tr style=\"text-align: right;\">\n",
       "      <th></th>\n",
       "      <th>Code</th>\n",
       "      <th>Description</th>\n",
       "    </tr>\n",
       "  </thead>\n",
       "  <tbody>\n",
       "    <tr>\n",
       "      <th>0</th>\n",
       "      <td>T1557</td>\n",
       "      <td>Man-in-the-Middle – intercepting and possibly ...</td>\n",
       "    </tr>\n",
       "    <tr>\n",
       "      <th>1</th>\n",
       "      <td>T1203</td>\n",
       "      <td>Exploitation for Client Execution – exploiting...</td>\n",
       "    </tr>\n",
       "    <tr>\n",
       "      <th>2</th>\n",
       "      <td>T1059</td>\n",
       "      <td>Command and Scripting Interpreter – executing ...</td>\n",
       "    </tr>\n",
       "    <tr>\n",
       "      <th>3</th>\n",
       "      <td>T1606</td>\n",
       "      <td>Forge Web Credentials – creating or manipulati...</td>\n",
       "    </tr>\n",
       "    <tr>\n",
       "      <th>4</th>\n",
       "      <td>T1552</td>\n",
       "      <td>Unsecured Credentials – obtaining credentials ...</td>\n",
       "    </tr>\n",
       "    <tr>\n",
       "      <th>5</th>\n",
       "      <td>T1499</td>\n",
       "      <td>Endpoint Denial of Service – disrupting the av...</td>\n",
       "    </tr>\n",
       "    <tr>\n",
       "      <th>6</th>\n",
       "      <td>T1204</td>\n",
       "      <td>User Execution – relying on a user to run mali...</td>\n",
       "    </tr>\n",
       "    <tr>\n",
       "      <th>7</th>\n",
       "      <td>T1566</td>\n",
       "      <td>Phishing – tricking users into revealing infor...</td>\n",
       "    </tr>\n",
       "    <tr>\n",
       "      <th>8</th>\n",
       "      <td>T1609</td>\n",
       "      <td>Container Administration Command – executing a...</td>\n",
       "    </tr>\n",
       "    <tr>\n",
       "      <th>9</th>\n",
       "      <td>T1195</td>\n",
       "      <td>Supply Chain Compromise – inserting malicious ...</td>\n",
       "    </tr>\n",
       "  </tbody>\n",
       "</table>\n",
       "</div>"
      ],
      "text/plain": [
       "    Code                                        Description\n",
       "0  T1557  Man-in-the-Middle – intercepting and possibly ...\n",
       "1  T1203  Exploitation for Client Execution – exploiting...\n",
       "2  T1059  Command and Scripting Interpreter – executing ...\n",
       "3  T1606  Forge Web Credentials – creating or manipulati...\n",
       "4  T1552  Unsecured Credentials – obtaining credentials ...\n",
       "5  T1499  Endpoint Denial of Service – disrupting the av...\n",
       "6  T1204  User Execution – relying on a user to run mali...\n",
       "7  T1566  Phishing – tricking users into revealing infor...\n",
       "8  T1609  Container Administration Command – executing a...\n",
       "9  T1195  Supply Chain Compromise – inserting malicious ..."
      ]
     },
     "execution_count": 135,
     "metadata": {},
     "output_type": "execute_result"
    }
   ],
   "source": [
    "parent_mitre_df"
   ]
  },
  {
   "cell_type": "code",
   "execution_count": 136,
   "id": "708b3e27-dfee-478a-b92f-0b307fef455a",
   "metadata": {},
   "outputs": [
    {
     "data": {
      "text/plain": [
       "'Man-in-the-Middle – intercepting and possibly altering communications between two parties without their knowledge.'"
      ]
     },
     "execution_count": 136,
     "metadata": {},
     "output_type": "execute_result"
    }
   ],
   "source": [
    "parent_mitre_df.iloc[0]['Description']"
   ]
  },
  {
   "cell_type": "markdown",
   "id": "ad6942d0-a267-4afc-989e-4214339ea14a",
   "metadata": {},
   "source": [
    "## Vulnerability"
   ]
  },
  {
   "cell_type": "code",
   "execution_count": 138,
   "id": "7acd4014-2ae7-4e2c-9ff9-1dda19bf48e5",
   "metadata": {},
   "outputs": [
    {
     "data": {
      "text/plain": [
       "'unsanitized input fields in sql queries'"
      ]
     },
     "execution_count": 138,
     "metadata": {},
     "output_type": "execute_result"
    }
   ],
   "source": [
    "df['Vulnerability'][0]"
   ]
  },
  {
   "cell_type": "code",
   "execution_count": 139,
   "id": "afec9dcb-1b11-4224-be77-1d89282c35b6",
   "metadata": {},
   "outputs": [
    {
     "data": {
      "text/plain": [
       "Vulnerability\n",
       "use-after-free                     26\n",
       "stack overflow                     22\n",
       "heap overflow                      22\n",
       "plc                                21\n",
       "memory corruption                  18\n",
       "type confusion                     14\n",
       "stack buffer overflow              14\n",
       "no anti-jamming countermeasures    13\n",
       "null pointer dereference           11\n",
       "buffer overflow                    10\n",
       "Name: count, dtype: int64"
      ]
     },
     "execution_count": 139,
     "metadata": {},
     "output_type": "execute_result"
    }
   ],
   "source": [
    "df['Vulnerability'].value_counts().head(10)"
   ]
  },
  {
   "cell_type": "markdown",
   "id": "bca3054b-4092-4fa3-8c99-30083ff50dd5",
   "metadata": {},
   "source": [
    "## We have finished analyzing each column individually, now it's time for a deeper analysis"
   ]
  },
  {
   "cell_type": "markdown",
   "id": "ddfd0164-86de-4567-b9a0-629434da6650",
   "metadata": {},
   "source": [
    "Now I will check the impact grouped by the most common types of attacks"
   ]
  },
  {
   "cell_type": "code",
   "execution_count": 236,
   "id": "6cf84ab7-90f5-466e-a4dd-60d510edfca4",
   "metadata": {},
   "outputs": [],
   "source": [
    "df_hardware_interface_exploitation = df[df['Attack Type'] == 'hardware interface exploitation']"
   ]
  },
  {
   "cell_type": "code",
   "execution_count": 242,
   "id": "8a2eef0a-1388-466b-afe6-f14300dca504",
   "metadata": {},
   "outputs": [
    {
     "data": {
      "text/plain": [
       "Impact\n",
       "credential theft                            3\n",
       "remote code execution                       2\n",
       "firmware-level persistence                  2\n",
       "credential leakage                          2\n",
       "unauthorized access, reverse engineering    1\n",
       "                                           ..\n",
       "dump and offline analysis of firmware       1\n",
       "disclosure of stored credentials            1\n",
       "root access or firmware overwrite           1\n",
       "shell access bypassing login                1\n",
       "silent, fast data access                    1\n",
       "Name: count, Length: 156, dtype: int64"
      ]
     },
     "execution_count": 242,
     "metadata": {},
     "output_type": "execute_result"
    }
   ],
   "source": [
    "df_hardware_interface_exploitation['Impact'].value_counts()"
   ]
  },
  {
   "cell_type": "markdown",
   "id": "81cb60e4-4885-4f51-991d-87724d9ea7f2",
   "metadata": {},
   "source": [
    "### At this point I would like to take a break from this project, perhaps in the near future I will return to it and deepen the analysis, or even enrich it with machine learning or artificial intelligence."
   ]
  },
  {
   "cell_type": "markdown",
   "id": "d23e532b-19bf-4764-92b7-c59bf3a1c7d5",
   "metadata": {},
   "source": [
    "### However, I encourage you to continue and analyze it yourself"
   ]
  }
 ],
 "metadata": {
  "kernelspec": {
   "display_name": "Python 3 (ipykernel)",
   "language": "python",
   "name": "python3"
  },
  "language_info": {
   "codemirror_mode": {
    "name": "ipython",
    "version": 3
   },
   "file_extension": ".py",
   "mimetype": "text/x-python",
   "name": "python",
   "nbconvert_exporter": "python",
   "pygments_lexer": "ipython3",
   "version": "3.12.7"
  }
 },
 "nbformat": 4,
 "nbformat_minor": 5
}
